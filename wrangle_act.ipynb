{
 "cells": [
  {
   "cell_type": "code",
   "execution_count": 573,
   "metadata": {},
   "outputs": [],
   "source": [
    "import json\n",
    "import matplotlib.pyplot as plt\n",
    "import numpy as np\n",
    "import os\n",
    "import pandas as pd\n",
    "import re\n",
    "import requests\n",
    "import seaborn as sns\n",
    "import tweepy\n",
    "import time\n",
    "\n",
    "from datetime import datetime\n",
    "\n",
    " \n",
    "#Tweeter API\n",
    "consumer_key = ''\n",
    "consumer_secret = ''\n",
    "access_token = ''\n",
    "access_secret = ''\n",
    "\n",
    "#Create an OAuthHandler instance\n",
    "auth = tweepy.OAuthHandler(consumer_key, consumer_secret)\n",
    "auth.set_access_token(access_token, access_secret)\n",
    "\n",
    "api = tweepy.API(auth, parser=tweepy.parsers.JSONParser())"
   ]
  },
  {
   "cell_type": "markdown",
   "metadata": {},
   "source": [
    "## Importing twitter-archive-enhanced.csv"
   ]
  },
  {
   "cell_type": "code",
   "execution_count": 574,
   "metadata": {},
   "outputs": [],
   "source": [
    "# load the data\n",
    "twitter = pd.read_csv('twitter-archive-enhanced.csv')"
   ]
  },
  {
   "cell_type": "code",
   "execution_count": 575,
   "metadata": {
    "scrolled": false
   },
   "outputs": [
    {
     "data": {
      "text/html": [
       "<div>\n",
       "<style scoped>\n",
       "    .dataframe tbody tr th:only-of-type {\n",
       "        vertical-align: middle;\n",
       "    }\n",
       "\n",
       "    .dataframe tbody tr th {\n",
       "        vertical-align: top;\n",
       "    }\n",
       "\n",
       "    .dataframe thead th {\n",
       "        text-align: right;\n",
       "    }\n",
       "</style>\n",
       "<table border=\"1\" class=\"dataframe\">\n",
       "  <thead>\n",
       "    <tr style=\"text-align: right;\">\n",
       "      <th></th>\n",
       "      <th>tweet_id</th>\n",
       "      <th>in_reply_to_status_id</th>\n",
       "      <th>in_reply_to_user_id</th>\n",
       "      <th>timestamp</th>\n",
       "      <th>source</th>\n",
       "      <th>text</th>\n",
       "      <th>retweeted_status_id</th>\n",
       "      <th>retweeted_status_user_id</th>\n",
       "      <th>retweeted_status_timestamp</th>\n",
       "      <th>expanded_urls</th>\n",
       "      <th>rating_numerator</th>\n",
       "      <th>rating_denominator</th>\n",
       "      <th>name</th>\n",
       "      <th>doggo</th>\n",
       "      <th>floofer</th>\n",
       "      <th>pupper</th>\n",
       "      <th>puppo</th>\n",
       "    </tr>\n",
       "  </thead>\n",
       "  <tbody>\n",
       "    <tr>\n",
       "      <th>0</th>\n",
       "      <td>892421000000000000</td>\n",
       "      <td>NaN</td>\n",
       "      <td>NaN</td>\n",
       "      <td>2017-08-01 16:23:56 +0000</td>\n",
       "      <td>&lt;a href=\"http://twitter.com/download/iphone\" r...</td>\n",
       "      <td>This is Phineas. He's a mystical boy. Only eve...</td>\n",
       "      <td>NaN</td>\n",
       "      <td>NaN</td>\n",
       "      <td>NaN</td>\n",
       "      <td>https://twitter.com/dog_rates/status/892420643...</td>\n",
       "      <td>13</td>\n",
       "      <td>10</td>\n",
       "      <td>Phineas</td>\n",
       "      <td>None</td>\n",
       "      <td>None</td>\n",
       "      <td>None</td>\n",
       "      <td>None</td>\n",
       "    </tr>\n",
       "    <tr>\n",
       "      <th>1</th>\n",
       "      <td>892177000000000000</td>\n",
       "      <td>NaN</td>\n",
       "      <td>NaN</td>\n",
       "      <td>2017-08-01 00:17:27 +0000</td>\n",
       "      <td>&lt;a href=\"http://twitter.com/download/iphone\" r...</td>\n",
       "      <td>This is Tilly. She's just checking pup on you....</td>\n",
       "      <td>NaN</td>\n",
       "      <td>NaN</td>\n",
       "      <td>NaN</td>\n",
       "      <td>https://twitter.com/dog_rates/status/892177421...</td>\n",
       "      <td>13</td>\n",
       "      <td>10</td>\n",
       "      <td>Tilly</td>\n",
       "      <td>None</td>\n",
       "      <td>None</td>\n",
       "      <td>None</td>\n",
       "      <td>None</td>\n",
       "    </tr>\n",
       "    <tr>\n",
       "      <th>2</th>\n",
       "      <td>891815000000000000</td>\n",
       "      <td>NaN</td>\n",
       "      <td>NaN</td>\n",
       "      <td>2017-07-31 00:18:03 +0000</td>\n",
       "      <td>&lt;a href=\"http://twitter.com/download/iphone\" r...</td>\n",
       "      <td>This is Archie. He is a rare Norwegian Pouncin...</td>\n",
       "      <td>NaN</td>\n",
       "      <td>NaN</td>\n",
       "      <td>NaN</td>\n",
       "      <td>https://twitter.com/dog_rates/status/891815181...</td>\n",
       "      <td>12</td>\n",
       "      <td>10</td>\n",
       "      <td>Archie</td>\n",
       "      <td>None</td>\n",
       "      <td>None</td>\n",
       "      <td>None</td>\n",
       "      <td>None</td>\n",
       "    </tr>\n",
       "    <tr>\n",
       "      <th>3</th>\n",
       "      <td>891690000000000000</td>\n",
       "      <td>NaN</td>\n",
       "      <td>NaN</td>\n",
       "      <td>2017-07-30 15:58:51 +0000</td>\n",
       "      <td>&lt;a href=\"http://twitter.com/download/iphone\" r...</td>\n",
       "      <td>This is Darla. She commenced a snooze mid meal...</td>\n",
       "      <td>NaN</td>\n",
       "      <td>NaN</td>\n",
       "      <td>NaN</td>\n",
       "      <td>https://twitter.com/dog_rates/status/891689557...</td>\n",
       "      <td>13</td>\n",
       "      <td>10</td>\n",
       "      <td>Darla</td>\n",
       "      <td>None</td>\n",
       "      <td>None</td>\n",
       "      <td>None</td>\n",
       "      <td>None</td>\n",
       "    </tr>\n",
       "    <tr>\n",
       "      <th>4</th>\n",
       "      <td>891328000000000000</td>\n",
       "      <td>NaN</td>\n",
       "      <td>NaN</td>\n",
       "      <td>2017-07-29 16:00:24 +0000</td>\n",
       "      <td>&lt;a href=\"http://twitter.com/download/iphone\" r...</td>\n",
       "      <td>This is Franklin. He would like you to stop ca...</td>\n",
       "      <td>NaN</td>\n",
       "      <td>NaN</td>\n",
       "      <td>NaN</td>\n",
       "      <td>https://twitter.com/dog_rates/status/891327558...</td>\n",
       "      <td>12</td>\n",
       "      <td>10</td>\n",
       "      <td>Franklin</td>\n",
       "      <td>None</td>\n",
       "      <td>None</td>\n",
       "      <td>None</td>\n",
       "      <td>None</td>\n",
       "    </tr>\n",
       "  </tbody>\n",
       "</table>\n",
       "</div>"
      ],
      "text/plain": [
       "             tweet_id  in_reply_to_status_id  in_reply_to_user_id  \\\n",
       "0  892421000000000000                    NaN                  NaN   \n",
       "1  892177000000000000                    NaN                  NaN   \n",
       "2  891815000000000000                    NaN                  NaN   \n",
       "3  891690000000000000                    NaN                  NaN   \n",
       "4  891328000000000000                    NaN                  NaN   \n",
       "\n",
       "                   timestamp  \\\n",
       "0  2017-08-01 16:23:56 +0000   \n",
       "1  2017-08-01 00:17:27 +0000   \n",
       "2  2017-07-31 00:18:03 +0000   \n",
       "3  2017-07-30 15:58:51 +0000   \n",
       "4  2017-07-29 16:00:24 +0000   \n",
       "\n",
       "                                              source  \\\n",
       "0  <a href=\"http://twitter.com/download/iphone\" r...   \n",
       "1  <a href=\"http://twitter.com/download/iphone\" r...   \n",
       "2  <a href=\"http://twitter.com/download/iphone\" r...   \n",
       "3  <a href=\"http://twitter.com/download/iphone\" r...   \n",
       "4  <a href=\"http://twitter.com/download/iphone\" r...   \n",
       "\n",
       "                                                text  retweeted_status_id  \\\n",
       "0  This is Phineas. He's a mystical boy. Only eve...                  NaN   \n",
       "1  This is Tilly. She's just checking pup on you....                  NaN   \n",
       "2  This is Archie. He is a rare Norwegian Pouncin...                  NaN   \n",
       "3  This is Darla. She commenced a snooze mid meal...                  NaN   \n",
       "4  This is Franklin. He would like you to stop ca...                  NaN   \n",
       "\n",
       "   retweeted_status_user_id retweeted_status_timestamp  \\\n",
       "0                       NaN                        NaN   \n",
       "1                       NaN                        NaN   \n",
       "2                       NaN                        NaN   \n",
       "3                       NaN                        NaN   \n",
       "4                       NaN                        NaN   \n",
       "\n",
       "                                       expanded_urls  rating_numerator  \\\n",
       "0  https://twitter.com/dog_rates/status/892420643...                13   \n",
       "1  https://twitter.com/dog_rates/status/892177421...                13   \n",
       "2  https://twitter.com/dog_rates/status/891815181...                12   \n",
       "3  https://twitter.com/dog_rates/status/891689557...                13   \n",
       "4  https://twitter.com/dog_rates/status/891327558...                12   \n",
       "\n",
       "   rating_denominator      name doggo floofer pupper puppo  \n",
       "0                  10   Phineas  None    None   None  None  \n",
       "1                  10     Tilly  None    None   None  None  \n",
       "2                  10    Archie  None    None   None  None  \n",
       "3                  10     Darla  None    None   None  None  \n",
       "4                  10  Franklin  None    None   None  None  "
      ]
     },
     "execution_count": 575,
     "metadata": {},
     "output_type": "execute_result"
    }
   ],
   "source": [
    "twitter.head()"
   ]
  },
  {
   "cell_type": "code",
   "execution_count": 576,
   "metadata": {
    "scrolled": true
   },
   "outputs": [
    {
     "name": "stdout",
     "output_type": "stream",
     "text": [
      "<class 'pandas.core.frame.DataFrame'>\n",
      "RangeIndex: 2356 entries, 0 to 2355\n",
      "Data columns (total 17 columns):\n",
      "tweet_id                      2356 non-null int64\n",
      "in_reply_to_status_id         78 non-null float64\n",
      "in_reply_to_user_id           78 non-null float64\n",
      "timestamp                     2356 non-null object\n",
      "source                        2356 non-null object\n",
      "text                          2356 non-null object\n",
      "retweeted_status_id           181 non-null float64\n",
      "retweeted_status_user_id      181 non-null float64\n",
      "retweeted_status_timestamp    181 non-null object\n",
      "expanded_urls                 2297 non-null object\n",
      "rating_numerator              2356 non-null int64\n",
      "rating_denominator            2356 non-null int64\n",
      "name                          2356 non-null object\n",
      "doggo                         2356 non-null object\n",
      "floofer                       2356 non-null object\n",
      "pupper                        2356 non-null object\n",
      "puppo                         2356 non-null object\n",
      "dtypes: float64(4), int64(3), object(10)\n",
      "memory usage: 313.0+ KB\n"
     ]
    }
   ],
   "source": [
    "twitter.info()"
   ]
  },
  {
   "cell_type": "code",
   "execution_count": 577,
   "metadata": {},
   "outputs": [
    {
     "data": {
      "text/html": [
       "<div>\n",
       "<style scoped>\n",
       "    .dataframe tbody tr th:only-of-type {\n",
       "        vertical-align: middle;\n",
       "    }\n",
       "\n",
       "    .dataframe tbody tr th {\n",
       "        vertical-align: top;\n",
       "    }\n",
       "\n",
       "    .dataframe thead th {\n",
       "        text-align: right;\n",
       "    }\n",
       "</style>\n",
       "<table border=\"1\" class=\"dataframe\">\n",
       "  <thead>\n",
       "    <tr style=\"text-align: right;\">\n",
       "      <th></th>\n",
       "      <th>tweet_id</th>\n",
       "      <th>in_reply_to_status_id</th>\n",
       "      <th>in_reply_to_user_id</th>\n",
       "      <th>timestamp</th>\n",
       "      <th>source</th>\n",
       "      <th>text</th>\n",
       "      <th>retweeted_status_id</th>\n",
       "      <th>retweeted_status_user_id</th>\n",
       "      <th>retweeted_status_timestamp</th>\n",
       "      <th>expanded_urls</th>\n",
       "      <th>rating_numerator</th>\n",
       "      <th>rating_denominator</th>\n",
       "      <th>name</th>\n",
       "      <th>doggo</th>\n",
       "      <th>floofer</th>\n",
       "      <th>pupper</th>\n",
       "      <th>puppo</th>\n",
       "    </tr>\n",
       "  </thead>\n",
       "  <tbody>\n",
       "    <tr>\n",
       "      <th>1867</th>\n",
       "      <td>675334000000000000</td>\n",
       "      <td>NaN</td>\n",
       "      <td>NaN</td>\n",
       "      <td>2015-12-11 15:19:21 +0000</td>\n",
       "      <td>&lt;a href=\"http://twitter.com/download/iphone\" r...</td>\n",
       "      <td>Good morning here's a grass pupper. 12/10 http...</td>\n",
       "      <td>NaN</td>\n",
       "      <td>NaN</td>\n",
       "      <td>NaN</td>\n",
       "      <td>https://twitter.com/dog_rates/status/675334060...</td>\n",
       "      <td>12</td>\n",
       "      <td>10</td>\n",
       "      <td>None</td>\n",
       "      <td>None</td>\n",
       "      <td>None</td>\n",
       "      <td>pupper</td>\n",
       "      <td>None</td>\n",
       "    </tr>\n",
       "  </tbody>\n",
       "</table>\n",
       "</div>"
      ],
      "text/plain": [
       "                tweet_id  in_reply_to_status_id  in_reply_to_user_id  \\\n",
       "1867  675334000000000000                    NaN                  NaN   \n",
       "\n",
       "                      timestamp  \\\n",
       "1867  2015-12-11 15:19:21 +0000   \n",
       "\n",
       "                                                 source  \\\n",
       "1867  <a href=\"http://twitter.com/download/iphone\" r...   \n",
       "\n",
       "                                                   text  retweeted_status_id  \\\n",
       "1867  Good morning here's a grass pupper. 12/10 http...                  NaN   \n",
       "\n",
       "      retweeted_status_user_id retweeted_status_timestamp  \\\n",
       "1867                       NaN                        NaN   \n",
       "\n",
       "                                          expanded_urls  rating_numerator  \\\n",
       "1867  https://twitter.com/dog_rates/status/675334060...                12   \n",
       "\n",
       "      rating_denominator  name doggo floofer  pupper puppo  \n",
       "1867                  10  None  None    None  pupper  None  "
      ]
     },
     "execution_count": 577,
     "metadata": {},
     "output_type": "execute_result"
    }
   ],
   "source": [
    "twitter.sample()"
   ]
  },
  {
   "cell_type": "code",
   "execution_count": 578,
   "metadata": {},
   "outputs": [
    {
     "data": {
      "text/plain": [
       "https://twitter.com/dog_rates/status/667182792070062081/photo/1                                                                                                                                                                                                                                                                                                                                    2\n",
       "https://twitter.com/dog_rates/status/773308824254029826/photo/1                                                                                                                                                                                                                                                                                                                                    2\n",
       "https://twitter.com/dog_rates/status/816450570814898180/photo/1,https://twitter.com/dog_rates/status/816450570814898180/photo/1                                                                                                                                                                                                                                                                    2\n",
       "https://twitter.com/dog_rates/status/692417313023332352/photo/1                                                                                                                                                                                                                                                                                                                                    2\n",
       "https://twitter.com/dog_rates/status/817827839487737858/video/1                                                                                                                                                                                                                                                                                                                                    2\n",
       "https://twitter.com/dog_rates/status/820749716845686786/photo/1,https://twitter.com/dog_rates/status/820749716845686786/photo/1                                                                                                                                                                                                                                                                    2\n",
       "https://twitter.com/dog_rates/status/761672994376806400/video/1                                                                                                                                                                                                                                                                                                                                    2\n",
       "https://twitter.com/dog_rates/status/866334964761202691/photo/1,https://twitter.com/dog_rates/status/866334964761202691/photo/1                                                                                                                                                                                                                                                                    2\n",
       "https://twitter.com/dog_rates/status/810254108431155201/photo/1                                                                                                                                                                                                                                                                                                                                    2\n",
       "https://twitter.com/dog_rates/status/740676976021798912/photo/1                                                                                                                                                                                                                                                                                                                                    2\n",
       "https://www.gofundme.com/help-lorenzo-beat-cancer,https://twitter.com/dog_rates/status/860563773140209665/photo/1,https://twitter.com/dog_rates/status/860563773140209665/photo/1                                                                                                                                                                                                                  2\n",
       "https://www.loveyourmelon.com/pages/ourstory,https://twitter.com/dog_rates/status/820314633777061888/photo/1,https://twitter.com/dog_rates/status/820314633777061888/photo/1,https://twitter.com/dog_rates/status/820314633777061888/photo/1                                                                                                                                                       2\n",
       "https://twitter.com/dog_rates/status/841077006473256960/photo/1                                                                                                                                                                                                                                                                                                                                    2\n",
       "https://twitter.com/dog_rates/status/759447681597108224/photo/1                                                                                                                                                                                                                                                                                                                                    2\n",
       "https://twitter.com/dog_rates/status/676936541936185344/photo/1                                                                                                                                                                                                                                                                                                                                    2\n",
       "https://twitter.com/dog_rates/status/667866724293877760/photo/1                                                                                                                                                                                                                                                                                                                                    2\n",
       "https://twitter.com/dog_rates/status/681523177663676416/photo/1                                                                                                                                                                                                                                                                                                                                    2\n",
       "https://twitter.com/dog_rates/status/756288534030475264/photo/1,https://twitter.com/dog_rates/status/756288534030475264/photo/1,https://twitter.com/dog_rates/status/756288534030475264/photo/1,https://twitter.com/dog_rates/status/756288534030475264/photo/1                                                                                                                                    2\n",
       "https://twitter.com/dog_rates/status/740373189193256964/photo/1,https://twitter.com/dog_rates/status/740373189193256964/photo/1,https://twitter.com/dog_rates/status/740373189193256964/photo/1,https://twitter.com/dog_rates/status/740373189193256964/photo/1                                                                                                                                    2\n",
       "https://twitter.com/dog_rates/status/859196978902773760/video/1                                                                                                                                                                                                                                                                                                                                    2\n",
       "https://twitter.com/dog_rates/status/687317306314240000/photo/1,https://twitter.com/dog_rates/status/687317306314240000/photo/1                                                                                                                                                                                                                                                                    2\n",
       "https://www.gofundme.com/helpquinny,https://twitter.com/dog_rates/status/863062471531167744/photo/1,https://twitter.com/dog_rates/status/863062471531167744/photo/1,https://twitter.com/dog_rates/status/863062471531167744/photo/1,https://twitter.com/dog_rates/status/863062471531167744/photo/1                                                                                                2\n",
       "http://www.gofundme.com/bluethewhitehusky,https://twitter.com/dog_rates/status/831650051525054464/photo/1,https://twitter.com/dog_rates/status/831650051525054464/photo/1,https://twitter.com/dog_rates/status/831650051525054464/photo/1,https://twitter.com/dog_rates/status/831650051525054464/photo/1                                                                                          2\n",
       "https://twitter.com/dog_rates/status/809220051211603969/photo/1,https://twitter.com/dog_rates/status/809220051211603969/photo/1                                                                                                                                                                                                                                                                    2\n",
       "https://twitter.com/dog_rates/status/809920764300447744/photo/1                                                                                                                                                                                                                                                                                                                                    2\n",
       "https://twitter.com/dog_rates/status/669000397445533696/photo/1                                                                                                                                                                                                                                                                                                                                    2\n",
       "https://twitter.com/dog_rates/status/791406955684368384/photo/1,https://twitter.com/dog_rates/status/791406955684368384/photo/1,https://twitter.com/dog_rates/status/791406955684368384/photo/1,https://twitter.com/dog_rates/status/791406955684368384/photo/1                                                                                                                                    2\n",
       "https://www.gofundme.com/my-puppys-double-cataract-surgery,https://twitter.com/dog_rates/status/825026590719483904/photo/1,https://twitter.com/dog_rates/status/825026590719483904/photo/1                                                                                                                                                                                                         2\n",
       "https://twitter.com/dog_rates/status/673295268553605120/photo/1                                                                                                                                                                                                                                                                                                                                    2\n",
       "https://twitter.com/dog_rates/status/782305867769217024/photo/1,https://twitter.com/dog_rates/status/782305867769217024/photo/1,https://twitter.com/dog_rates/status/782305867769217024/photo/1                                                                                                                                                                                                    2\n",
       "                                                                                                                                                                                                                                                                                                                                                                                                  ..\n",
       "https://twitter.com/dog_rates/status/670428280563085312/photo/1                                                                                                                                                                                                                                                                                                                                    1\n",
       "https://twitter.com/dog_rates/status/666362758909284353/photo/1                                                                                                                                                                                                                                                                                                                                    1\n",
       "https://twitter.com/dog_rates/status/848690551926992896/photo/1                                                                                                                                                                                                                                                                                                                                    1\n",
       "https://twitter.com/dog_rates/status/747600769478692864/photo/1,https://twitter.com/dog_rates/status/747600769478692864/photo/1                                                                                                                                                                                                                                                                    1\n",
       "https://twitter.com/dog_rates/status/797236660651966464/photo/1,https://twitter.com/dog_rates/status/797236660651966464/photo/1                                                                                                                                                                                                                                                                    1\n",
       "https://twitter.com/dog_rates/status/667405339315146752/photo/1                                                                                                                                                                                                                                                                                                                                    1\n",
       "https://twitter.com/dog_rates/status/703774238772166656/photo/1                                                                                                                                                                                                                                                                                                                                    1\n",
       "https://twitter.com/dog_rates/status/813812741911748608/photo/1,https://twitter.com/dog_rates/status/813812741911748608/photo/1,https://twitter.com/dog_rates/status/813812741911748608/photo/1                                                                                                                                                                                                    1\n",
       "https://twitter.com/dog_rates/status/855459453768019968/photo/1,https://twitter.com/dog_rates/status/855459453768019968/photo/1                                                                                                                                                                                                                                                                    1\n",
       "https://twitter.com/dog_rates/status/718246886998687744/photo/1                                                                                                                                                                                                                                                                                                                                    1\n",
       "https://twitter.com/dog_rates/status/671538301157904385/photo/1                                                                                                                                                                                                                                                                                                                                    1\n",
       "https://vine.co/v/hbLbH77Ar67                                                                                                                                                                                                                                                                                                                                                                      1\n",
       "https://twitter.com/dog_rates/status/851591660324737024/photo/1                                                                                                                                                                                                                                                                                                                                    1\n",
       "https://twitter.com/dog_rates/status/687664829264453632/photo/1                                                                                                                                                                                                                                                                                                                                    1\n",
       "https://twitter.com/dog_rates/status/675153376133427200/photo/1                                                                                                                                                                                                                                                                                                                                    1\n",
       "https://twitter.com/dog_rates/status/689289219123089408/video/1                                                                                                                                                                                                                                                                                                                                    1\n",
       "https://twitter.com/dog_rates/status/712438159032893441/photo/1                                                                                                                                                                                                                                                                                                                                    1\n",
       "https://twitter.com/dog_rates/status/666644823164719104/photo/1                                                                                                                                                                                                                                                                                                                                    1\n",
       "https://twitter.com/dog_rates/status/794926597468000259/photo/1                                                                                                                                                                                                                                                                                                                                    1\n",
       "https://twitter.com/dog_rates/status/667165590075940865/photo/1                                                                                                                                                                                                                                                                                                                                    1\n",
       "https://vine.co/v/iMZx6aDbExn                                                                                                                                                                                                                                                                                                                                                                      1\n",
       "https://twitter.com/dog_rates/status/679828447187857408/photo/1,https://twitter.com/dog_rates/status/679828447187857408/photo/1,https://twitter.com/dog_rates/status/679828447187857408/photo/1,https://twitter.com/dog_rates/status/679828447187857408/photo/1,https://twitter.com/dog_rates/status/679828447187857408/photo/1,https://twitter.com/dog_rates/status/679828447187857408/photo/1    1\n",
       "https://twitter.com/dog_rates/status/821765923262631936/photo/1                                                                                                                                                                                                                                                                                                                                    1\n",
       "https://twitter.com/dog_rates/status/668496999348633600/photo/1                                                                                                                                                                                                                                                                                                                                    1\n",
       "https://twitter.com/dog_rates/status/673355879178194945/photo/1,https://twitter.com/dog_rates/status/673355879178194945/photo/1,https://twitter.com/dog_rates/status/673355879178194945/photo/1                                                                                                                                                                                                    1\n",
       "https://twitter.com/dog_rates/status/675354435921575936/video/1,https://twitter.com/dog_rates/status/675354435921575936/video/1                                                                                                                                                                                                                                                                    1\n",
       "https://twitter.com/dog_rates/status/689905486972461056/photo/1,https://twitter.com/dog_rates/status/689905486972461056/photo/1,https://twitter.com/dog_rates/status/689905486972461056/photo/1,https://twitter.com/dog_rates/status/689905486972461056/photo/1                                                                                                                                    1\n",
       "https://twitter.com/dog_rates/status/810284430598270976/photo/1,https://twitter.com/dog_rates/status/810284430598270976/photo/1                                                                                                                                                                                                                                                                    1\n",
       "https://twitter.com/dog_rates/status/671866342182637568/photo/1                                                                                                                                                                                                                                                                                                                                    1\n",
       "https://twitter.com/dog_rates/status/745314880350101504/photo/1,https://twitter.com/dog_rates/status/745314880350101504/photo/1,https://twitter.com/dog_rates/status/745314880350101504/photo/1,https://twitter.com/dog_rates/status/745314880350101504/photo/1                                                                                                                                    1\n",
       "Name: expanded_urls, Length: 2218, dtype: int64"
      ]
     },
     "execution_count": 578,
     "metadata": {},
     "output_type": "execute_result"
    }
   ],
   "source": [
    "twitter['expanded_urls'].value_counts()"
   ]
  },
  {
   "cell_type": "code",
   "execution_count": 579,
   "metadata": {},
   "outputs": [
    {
     "data": {
      "text/plain": [
       "None            745\n",
       "a                55\n",
       "Charlie          12\n",
       "Cooper           11\n",
       "Lucy             11\n",
       "Oliver           11\n",
       "Tucker           10\n",
       "Penny            10\n",
       "Lola             10\n",
       "Bo                9\n",
       "Winston           9\n",
       "the               8\n",
       "Sadie             8\n",
       "Toby              7\n",
       "an                7\n",
       "Buddy             7\n",
       "Daisy             7\n",
       "Bailey            7\n",
       "Jax               6\n",
       "Koda              6\n",
       "Oscar             6\n",
       "Jack              6\n",
       "Rusty             6\n",
       "Dave              6\n",
       "Stanley           6\n",
       "Scout             6\n",
       "Leo               6\n",
       "Milo              6\n",
       "Bella             6\n",
       "Larry             5\n",
       "               ... \n",
       "Mack              1\n",
       "Timofy            1\n",
       "Goose             1\n",
       "Aldrick           1\n",
       "Geno              1\n",
       "Eugene            1\n",
       "Winifred          1\n",
       "Grady             1\n",
       "Lenox             1\n",
       "Tom               1\n",
       "Steve             1\n",
       "Kawhi             1\n",
       "Cleopatricia      1\n",
       "Lassie            1\n",
       "Hamrick           1\n",
       "Tedrick           1\n",
       "Carper            1\n",
       "Shikha            1\n",
       "Kenzie            1\n",
       "Ralphé            1\n",
       "Jeffrie           1\n",
       "Ralphus           1\n",
       "Mojo              1\n",
       "Ralphie           1\n",
       "Thor              1\n",
       "Puff              1\n",
       "Spencer           1\n",
       "Margo             1\n",
       "Lili              1\n",
       "Carbon            1\n",
       "Name: name, Length: 957, dtype: int64"
      ]
     },
     "execution_count": 579,
     "metadata": {},
     "output_type": "execute_result"
    }
   ],
   "source": [
    "twitter['name'].value_counts()"
   ]
  },
  {
   "cell_type": "code",
   "execution_count": 580,
   "metadata": {},
   "outputs": [
    {
     "data": {
      "text/plain": [
       "None     2259\n",
       "doggo      97\n",
       "Name: doggo, dtype: int64"
      ]
     },
     "execution_count": 580,
     "metadata": {},
     "output_type": "execute_result"
    }
   ],
   "source": [
    "twitter['doggo'].value_counts()"
   ]
  },
  {
   "cell_type": "code",
   "execution_count": 581,
   "metadata": {},
   "outputs": [
    {
     "data": {
      "text/plain": [
       "None       2346\n",
       "floofer      10\n",
       "Name: floofer, dtype: int64"
      ]
     },
     "execution_count": 581,
     "metadata": {},
     "output_type": "execute_result"
    }
   ],
   "source": [
    "twitter['floofer'].value_counts()"
   ]
  },
  {
   "cell_type": "code",
   "execution_count": 582,
   "metadata": {},
   "outputs": [
    {
     "data": {
      "text/plain": [
       "None      2099\n",
       "pupper     257\n",
       "Name: pupper, dtype: int64"
      ]
     },
     "execution_count": 582,
     "metadata": {},
     "output_type": "execute_result"
    }
   ],
   "source": [
    "twitter['pupper'].value_counts()"
   ]
  },
  {
   "cell_type": "code",
   "execution_count": 583,
   "metadata": {
    "scrolled": true
   },
   "outputs": [
    {
     "data": {
      "text/plain": [
       "None     2326\n",
       "puppo      30\n",
       "Name: puppo, dtype: int64"
      ]
     },
     "execution_count": 583,
     "metadata": {},
     "output_type": "execute_result"
    }
   ],
   "source": [
    "twitter['puppo'].value_counts()"
   ]
  },
  {
   "cell_type": "code",
   "execution_count": 584,
   "metadata": {
    "scrolled": true
   },
   "outputs": [
    {
     "data": {
      "text/plain": [
       "673716000000000000    2\n",
       "675147000000000000    2\n",
       "832216000000000000    2\n",
       "667551000000000000    2\n",
       "819015000000000000    2\n",
       "674743000000000000    2\n",
       "675707000000000000    2\n",
       "698703000000000000    1\n",
       "751937000000000000    1\n",
       "680071000000000000    1\n",
       "675798000000000000    1\n",
       "669364000000000000    1\n",
       "770655000000000000    1\n",
       "706169000000000000    1\n",
       "816817000000000000    1\n",
       "821153000000000000    1\n",
       "670805000000000000    1\n",
       "668542000000000000    1\n",
       "719991000000000000    1\n",
       "741100000000000000    1\n",
       "814530000000000000    1\n",
       "677698000000000000    1\n",
       "750072000000000000    1\n",
       "704761000000000000    1\n",
       "672878000000000000    1\n",
       "784518000000000000    1\n",
       "667767000000000000    1\n",
       "679406000000000000    1\n",
       "827654000000000000    1\n",
       "670797000000000000    1\n",
       "                     ..\n",
       "719333000000000000    1\n",
       "705787000000000000    1\n",
       "689878000000000000    1\n",
       "725842000000000000    1\n",
       "671109000000000000    1\n",
       "680806000000000000    1\n",
       "837482000000000000    1\n",
       "870309000000000000    1\n",
       "677335000000000000    1\n",
       "681580000000000000    1\n",
       "711733000000000000    1\n",
       "672257000000000000    1\n",
       "816829000000000000    1\n",
       "796563000000000000    1\n",
       "796387000000000000    1\n",
       "772115000000000000    1\n",
       "674740000000000000    1\n",
       "790582000000000000    1\n",
       "670427000000000000    1\n",
       "713176000000000000    1\n",
       "829502000000000000    1\n",
       "672538000000000000    1\n",
       "759197000000000000    1\n",
       "749064000000000000    1\n",
       "785515000000000000    1\n",
       "693156000000000000    1\n",
       "870063000000000000    1\n",
       "825027000000000000    1\n",
       "770069000000000000    1\n",
       "670080000000000000    1\n",
       "Name: tweet_id, Length: 2349, dtype: int64"
      ]
     },
     "execution_count": 584,
     "metadata": {},
     "output_type": "execute_result"
    }
   ],
   "source": [
    "twitter['tweet_id'].value_counts()"
   ]
  },
  {
   "cell_type": "code",
   "execution_count": 704,
   "metadata": {},
   "outputs": [
    {
     "data": {
      "text/plain": [
       "0       False\n",
       "1       False\n",
       "2       False\n",
       "3       False\n",
       "4       False\n",
       "5       False\n",
       "6       False\n",
       "7       False\n",
       "8       False\n",
       "9       False\n",
       "10      False\n",
       "11      False\n",
       "12      False\n",
       "13      False\n",
       "14      False\n",
       "15      False\n",
       "16      False\n",
       "17      False\n",
       "18      False\n",
       "19      False\n",
       "20      False\n",
       "21      False\n",
       "22      False\n",
       "23      False\n",
       "24      False\n",
       "25      False\n",
       "26      False\n",
       "27      False\n",
       "28      False\n",
       "29      False\n",
       "        ...  \n",
       "2326    False\n",
       "2327    False\n",
       "2328    False\n",
       "2329    False\n",
       "2330    False\n",
       "2331    False\n",
       "2332    False\n",
       "2333    False\n",
       "2334    False\n",
       "2335    False\n",
       "2336    False\n",
       "2337    False\n",
       "2338    False\n",
       "2339    False\n",
       "2340    False\n",
       "2341    False\n",
       "2342    False\n",
       "2343    False\n",
       "2344    False\n",
       "2345    False\n",
       "2346    False\n",
       "2347    False\n",
       "2348    False\n",
       "2349    False\n",
       "2350    False\n",
       "2351    False\n",
       "2352    False\n",
       "2353    False\n",
       "2354    False\n",
       "2355    False\n",
       "Name: tweet_id, Length: 2356, dtype: bool"
      ]
     },
     "execution_count": 704,
     "metadata": {},
     "output_type": "execute_result"
    }
   ],
   "source": [
    "twitter['tweet_id'].duplicated()"
   ]
  },
  {
   "cell_type": "code",
   "execution_count": 586,
   "metadata": {},
   "outputs": [
    {
     "data": {
      "text/plain": [
       "2349"
      ]
     },
     "execution_count": 586,
     "metadata": {},
     "output_type": "execute_result"
    }
   ],
   "source": [
    "len(twitter['tweet_id'].value_counts())"
   ]
  },
  {
   "cell_type": "code",
   "execution_count": 587,
   "metadata": {
    "scrolled": true
   },
   "outputs": [
    {
     "data": {
      "text/html": [
       "<div>\n",
       "<style scoped>\n",
       "    .dataframe tbody tr th:only-of-type {\n",
       "        vertical-align: middle;\n",
       "    }\n",
       "\n",
       "    .dataframe tbody tr th {\n",
       "        vertical-align: top;\n",
       "    }\n",
       "\n",
       "    .dataframe thead th {\n",
       "        text-align: right;\n",
       "    }\n",
       "</style>\n",
       "<table border=\"1\" class=\"dataframe\">\n",
       "  <thead>\n",
       "    <tr style=\"text-align: right;\">\n",
       "      <th></th>\n",
       "      <th>tweet_id</th>\n",
       "      <th>in_reply_to_status_id</th>\n",
       "      <th>in_reply_to_user_id</th>\n",
       "      <th>retweeted_status_id</th>\n",
       "      <th>retweeted_status_user_id</th>\n",
       "      <th>rating_numerator</th>\n",
       "      <th>rating_denominator</th>\n",
       "    </tr>\n",
       "  </thead>\n",
       "  <tbody>\n",
       "    <tr>\n",
       "      <th>count</th>\n",
       "      <td>2.356000e+03</td>\n",
       "      <td>7.800000e+01</td>\n",
       "      <td>7.800000e+01</td>\n",
       "      <td>1.810000e+02</td>\n",
       "      <td>1.810000e+02</td>\n",
       "      <td>2356.000000</td>\n",
       "      <td>2356.000000</td>\n",
       "    </tr>\n",
       "    <tr>\n",
       "      <th>mean</th>\n",
       "      <td>7.427716e+17</td>\n",
       "      <td>7.455128e+17</td>\n",
       "      <td>2.015385e+16</td>\n",
       "      <td>7.720221e+17</td>\n",
       "      <td>1.241437e+16</td>\n",
       "      <td>13.126486</td>\n",
       "      <td>10.455433</td>\n",
       "    </tr>\n",
       "    <tr>\n",
       "      <th>std</th>\n",
       "      <td>6.856706e+16</td>\n",
       "      <td>7.583419e+16</td>\n",
       "      <td>1.253546e+17</td>\n",
       "      <td>6.236131e+16</td>\n",
       "      <td>9.597227e+16</td>\n",
       "      <td>45.876648</td>\n",
       "      <td>6.745237</td>\n",
       "    </tr>\n",
       "    <tr>\n",
       "      <th>min</th>\n",
       "      <td>6.660210e+17</td>\n",
       "      <td>6.660000e+17</td>\n",
       "      <td>1.185634e+07</td>\n",
       "      <td>6.660000e+17</td>\n",
       "      <td>7.832140e+05</td>\n",
       "      <td>0.000000</td>\n",
       "      <td>0.000000</td>\n",
       "    </tr>\n",
       "    <tr>\n",
       "      <th>25%</th>\n",
       "      <td>6.783992e+17</td>\n",
       "      <td>6.760000e+17</td>\n",
       "      <td>3.086374e+08</td>\n",
       "      <td>7.190000e+17</td>\n",
       "      <td>4.196984e+09</td>\n",
       "      <td>10.000000</td>\n",
       "      <td>10.000000</td>\n",
       "    </tr>\n",
       "    <tr>\n",
       "      <th>50%</th>\n",
       "      <td>7.196275e+17</td>\n",
       "      <td>7.035000e+17</td>\n",
       "      <td>4.196984e+09</td>\n",
       "      <td>7.800000e+17</td>\n",
       "      <td>4.196984e+09</td>\n",
       "      <td>11.000000</td>\n",
       "      <td>10.000000</td>\n",
       "    </tr>\n",
       "    <tr>\n",
       "      <th>75%</th>\n",
       "      <td>7.993375e+17</td>\n",
       "      <td>8.260000e+17</td>\n",
       "      <td>4.196984e+09</td>\n",
       "      <td>8.200000e+17</td>\n",
       "      <td>4.196984e+09</td>\n",
       "      <td>12.000000</td>\n",
       "      <td>10.000000</td>\n",
       "    </tr>\n",
       "    <tr>\n",
       "      <th>max</th>\n",
       "      <td>8.924210e+17</td>\n",
       "      <td>8.860000e+17</td>\n",
       "      <td>8.410000e+17</td>\n",
       "      <td>8.870000e+17</td>\n",
       "      <td>7.870000e+17</td>\n",
       "      <td>1776.000000</td>\n",
       "      <td>170.000000</td>\n",
       "    </tr>\n",
       "  </tbody>\n",
       "</table>\n",
       "</div>"
      ],
      "text/plain": [
       "           tweet_id  in_reply_to_status_id  in_reply_to_user_id  \\\n",
       "count  2.356000e+03           7.800000e+01         7.800000e+01   \n",
       "mean   7.427716e+17           7.455128e+17         2.015385e+16   \n",
       "std    6.856706e+16           7.583419e+16         1.253546e+17   \n",
       "min    6.660210e+17           6.660000e+17         1.185634e+07   \n",
       "25%    6.783992e+17           6.760000e+17         3.086374e+08   \n",
       "50%    7.196275e+17           7.035000e+17         4.196984e+09   \n",
       "75%    7.993375e+17           8.260000e+17         4.196984e+09   \n",
       "max    8.924210e+17           8.860000e+17         8.410000e+17   \n",
       "\n",
       "       retweeted_status_id  retweeted_status_user_id  rating_numerator  \\\n",
       "count         1.810000e+02              1.810000e+02       2356.000000   \n",
       "mean          7.720221e+17              1.241437e+16         13.126486   \n",
       "std           6.236131e+16              9.597227e+16         45.876648   \n",
       "min           6.660000e+17              7.832140e+05          0.000000   \n",
       "25%           7.190000e+17              4.196984e+09         10.000000   \n",
       "50%           7.800000e+17              4.196984e+09         11.000000   \n",
       "75%           8.200000e+17              4.196984e+09         12.000000   \n",
       "max           8.870000e+17              7.870000e+17       1776.000000   \n",
       "\n",
       "       rating_denominator  \n",
       "count         2356.000000  \n",
       "mean            10.455433  \n",
       "std              6.745237  \n",
       "min              0.000000  \n",
       "25%             10.000000  \n",
       "50%             10.000000  \n",
       "75%             10.000000  \n",
       "max            170.000000  "
      ]
     },
     "execution_count": 587,
     "metadata": {},
     "output_type": "execute_result"
    }
   ],
   "source": [
    "twitter.describe()"
   ]
  },
  {
   "cell_type": "code",
   "execution_count": 588,
   "metadata": {
    "scrolled": false
   },
   "outputs": [
    {
     "data": {
      "text/plain": [
       "tweet_id                      2349\n",
       "in_reply_to_status_id           55\n",
       "in_reply_to_user_id             31\n",
       "timestamp                     2356\n",
       "source                           4\n",
       "text                          2356\n",
       "retweeted_status_id            121\n",
       "retweeted_status_user_id        25\n",
       "retweeted_status_timestamp     181\n",
       "expanded_urls                 2218\n",
       "rating_numerator                40\n",
       "rating_denominator              18\n",
       "name                           957\n",
       "doggo                            2\n",
       "floofer                          2\n",
       "pupper                           2\n",
       "puppo                            2\n",
       "dtype: int64"
      ]
     },
     "execution_count": 588,
     "metadata": {},
     "output_type": "execute_result"
    }
   ],
   "source": [
    "twitter.nunique()"
   ]
  },
  {
   "cell_type": "code",
   "execution_count": 589,
   "metadata": {},
   "outputs": [
    {
     "data": {
      "text/plain": [
       "RT @dog_rates: Everyone needs to watch this. 13/10 https://t.co/Bb3xnpsWBC                                                                                             1\n",
       "This is Scout. He specializes in mid-air freeze frames. 11/10 https://t.co/sAHmwRtfSq                                                                                  1\n",
       "Meet Solomon. He was arrested for possession of adorable and attempted extra pats on the head. 12/10 would post bail https://t.co/nFqLaOLUQA                           1\n",
       "AT DAWN...\\nWE RIDE\\n\\n11/10 https://t.co/QnfO7HEQGA                                                                                                                   1\n",
       "This pupper is afraid of its own feet. 12/10 would comfort https://t.co/Tn9Mp0oPoJ                                                                                     1\n",
       "This is Milo. He's currently plotting his revenge. 10/10 https://t.co/ca0q9HM8II                                                                                       1\n",
       "This is Lenox. She's in a wheelbarrow. Silly doggo. You don't belong there. 10/10 would push around https://t.co/oYbVR4nBsR                                            1\n",
       "This is Panda. He's happy af. 11/10 https://t.co/IOAk9i4UvE                                                                                                            1\n",
       "This dog doesn't know how to stairs. Quite tragic really. 9/10 get it together pup https://t.co/kTpr9PTMg1                                                             1\n",
       "Say hello to Peaches. She's a Dingleberry Zanderfloof. 13/10 would caress lots https://t.co/YrhkrTsoTt                                                                 1\n",
       "This is Marvin. He can tie a bow tie better than me. 11/10 https://t.co/81kzPgqjQ3                                                                                     1\n",
       "This is Maxaroni. He's curly af. Also rather fabulous. 11/10 would hug well https://t.co/A216OjIdca                                                                    1\n",
       "This is Stephanus. She stays woke. 12/10 https://t.co/WIWabMngQZ                                                                                                       1\n",
       "Who keeps sending in pictures without dogs in them? This needs to stop. 5/10 for the mediocre road https://t.co/ELqelxWMrC                                             1\n",
       "Super rare dog right here guys. Doesn't bark. Seems strong. Blue. Very family friendly pet. 10/10 overall good dog https://t.co/Jykq2iq3qN                             1\n",
       "This is a Sagitariot Baklava mix. Loves her new hat. 11/10 radiant pup https://t.co/Bko5kFJYUU                                                                         1\n",
       "\"I'm the only one that ever does anything in this household\" 10/10 https://t.co/V8HcVIh4jt                                                                             1\n",
       "Jack deserves another round of applause. If you missed this earlier today I strongly suggest reading it. Wonderful first 14/10 🐶❤️                                     1\n",
       "This is Stanley. He has his first swim lesson today. Doggle straps adjusted. Ready to go. 13/10 Phelps is nervous (IG: stanleythe_corgi) https://t.co/Nx52PGwH94       1\n",
       "This is Ferg. He swallowed a chainsaw. 1 like = 1 prayer 10/10 remain calm Ferg (vid by @calebturer) https://t.co/gOH51Y8Yh1                                           1\n",
       "Here's a doggo doin a struggle. 11/10 much determined https://t.co/gQqRBfkX4I                                                                                          1\n",
       "This is Nelly. He graduated with his dogtorate today. Wants to know if you're proud of him. 12/10 would give congratulatory boop https://t.co/4g4cfj3P4Y               1\n",
       "This is Sampson. He just graduated. Ready to be a doggo now. Time for the real world. 12/10 have fun with taxes https://t.co/pgVKxRw0s1                                1\n",
       "This little pupper just arrived. 11/10 would snug https://t.co/DA5aqnSGfB                                                                                              1\n",
       "This is Darla. She commenced a snooze mid meal. 13/10 happens to the best of us https://t.co/tD36da7qLQ                                                                1\n",
       "Here's a puppo that seems to be on the fence about something haha no but seriously someone help her. 13/10 https://t.co/BxvuXk0UCm                                     1\n",
       "Take all my money. 10/10 https://t.co/B28ebc5LzQ                                                                                                                       1\n",
       "This is Benedict. He wants to thank you for this delightful urban walk. Hopes you know he loves you. 13/10 super duper good boy https://t.co/26BXueUgbs                1\n",
       "Another pic without a dog in it? What am I supposed to do? Rate the carpet? Fine I will. 7/10 looks adequately comfy https://t.co/OJZQ6I4gGd                           1\n",
       "Meet Mason. He's a total frat boy. Pretends to be Hawaiian. Head is unbelievably round. 10/10 would pet so damn well https://t.co/DM3ZP3AA7b                           1\n",
       "                                                                                                                                                                      ..\n",
       "RT @dog_rates: This is Canela. She attempted some fancy porch pics. They were unsuccessful. 13/10 someone help her https://t.co/cLyzpcUcMX                             1\n",
       "We usually don't rate Deck-bound Saskatoon Black Bears, but this one is h*ckin flawless. Sneaky tongue slip too. 13/10 would hug firmly https://t.co/mNuMH9400n        1\n",
       "Meet Boston. He's worried because his tongue won't fit all the way in his mouth. 12/10 it'll be ok deep breaths pup https://t.co/rfWQ4T9iQj                            1\n",
       "Oh. My. God. 13/10 magical af https://t.co/Ezu6jQrKAZ                                                                                                                  1\n",
       "Crazy unseen footage from Jurassic Park. 10/10 for both dinosaur puppers https://t.co/L8wt2IpwxO                                                                       1\n",
       "Meet Jesse. He's a Fetty Woof. His tongue ejects without warning. A true bleptomaniac. 12/10 would snug well https://t.co/fUod0tVmvK                                   1\n",
       "This is Jameson. He had a few too many in the name of freedom. I can't not respect that. 11/10 'Merica https://t.co/8zQvXM6pG5                                         1\n",
       "This is Carter. He wakes up in the morning and pisses excellence. 10/10 best there is plain and simple https://t.co/pHktDjpFr8                                         1\n",
       "This is getting incredibly frustrating. This is a Mexican Golden Beaver. We only rate dogs. Only send dogs ...10/10 https://t.co/0yolOOyD3X                            1\n",
       "This is Chubbs. He dug a hole and now he's stuck in it. Dang h*ckin doggo. 11/10 would assist https://t.co/z1VRj1cYZf                                                  1\n",
       "This is Terry. He's a Toasty Western Sriracha. Doubles as a table. Great for parties. 10/10 would highly recommend https://t.co/1ui7a1ZLTT                             1\n",
       "Meet Doobert. He's a deaf doggo. Didn't stop him on the field tho. Absolute legend today. 14/10 would pat head approvingly https://t.co/iCk7zstRA9                     1\n",
       "This doggo is just waiting for someone to be proud of her and her accomplishment. 13/10 legendary af https://t.co/9T2h14yn4Q                                           1\n",
       "Here we have an exotic dog. Good at ukulele. Fashionable af. Has two more arms if needed. Is blue. Knows what 'ohana means. 13/10 would pet https://t.co/gEsymGTXCT    1\n",
       "RT @dog_rates: Say hello to Cooper. His expression is the same wet or dry. Absolute 12/10 but Coop desperately requests your help\\n\\nhttps://…                         1\n",
       "This is Rolf. He's having the time of his life. 11/10 good pupper https://t.co/OO6MqEbqG3                                                                              1\n",
       "\"YOU CAN'T HANDLE THE TRUTH\" both 10/10 https://t.co/ZvxdB4i9AG                                                                                                        1\n",
       "\"Everything looks pretty good in there. Make sure to brush your gums. Been flossing? How's school going?\" Both 10/10 https://t.co/lWL2IMJqLR                           1\n",
       "This pupper likes tape. 12/10 https://t.co/cSp6w5GWgm                                                                                                                  1\n",
       "This is Henry. He's a shit dog. Short pointy ears. Leaves trail of pee. Not fluffy. Doesn't come when called. 2/10 https://t.co/Pu9RhfHDEQ                             1\n",
       "This is Zoey. She doesn't want to be one of the scary sharks. Just wants to be a snuggly pettable boatpet. 13/10 #BarkWeek https://t.co/9TwLuAGH0b                     1\n",
       "This is Ozzy. He woke up 2 minutes before he had to be ready for the Christmas party. 9/10 classic Ozzy https://t.co/Kt9vmw0Fap                                        1\n",
       "Say hello to Indie and Jupiter. They're having a stellar day out on the boat. Both 12/10 adorbz af https://t.co/KgSEkrPA3r                                             1\n",
       "This is Sandra. She's going skydiving. Nice adidas sandals. Stellar house plant. 11/10 https://t.co/orbkAq9kYF                                                         1\n",
       "This is Baxter. He looks like a fun dog. Prefers action shots. 11/10 the last one is impeccable https://t.co/LHcH1yhhIb                                                1\n",
       "This is Beau. That is Beau's balloon. He takes it everywhere. 13/10 would protect at all costs https://t.co/YDtpCjIPKN                                                 1\n",
       "So this just changed my life. 13/10 please enjoy  https://t.co/dsv4xAtfv7                                                                                              1\n",
       "Guys I found the dog from Up. 12/10 https://t.co/WqoZtX9jmJ                                                                                                            1\n",
       "This is Mabel. She's super h*ckin smol. Portable af. Comes with the smol shoe. 12/10 would keep in frocket https://t.co/GGJvxYt3xK                                     1\n",
       "Say hello to Jerome. He can shoot french fries out of his mouth at insane speeds. Deadly af. 10/10 https://t.co/dIy88HwrX8                                             1\n",
       "Name: text, Length: 2356, dtype: int64"
      ]
     },
     "execution_count": 589,
     "metadata": {},
     "output_type": "execute_result"
    }
   ],
   "source": [
    "twitter['text'].value_counts()"
   ]
  },
  {
   "cell_type": "markdown",
   "metadata": {},
   "source": [
    "## Importing image_predictions.tsv"
   ]
  },
  {
   "cell_type": "code",
   "execution_count": 590,
   "metadata": {
    "scrolled": true
   },
   "outputs": [
    {
     "data": {
      "text/plain": [
       "335079"
      ]
     },
     "execution_count": 590,
     "metadata": {},
     "output_type": "execute_result"
    }
   ],
   "source": [
    "#importing the images by URL\n",
    "import requests\n",
    "url = 'https://d17h27t6h515a5.cloudfront.net/topher/2017/August/599fd2ad_image-predictions/image-predictions.tsv'\n",
    "image_request = requests.get(url, allow_redirects=True)\n",
    "\n",
    "open('image_predictions.tsv', 'wb').write(image_request.content)"
   ]
  },
  {
   "cell_type": "code",
   "execution_count": 591,
   "metadata": {
    "scrolled": false
   },
   "outputs": [
    {
     "data": {
      "text/html": [
       "<div>\n",
       "<style scoped>\n",
       "    .dataframe tbody tr th:only-of-type {\n",
       "        vertical-align: middle;\n",
       "    }\n",
       "\n",
       "    .dataframe tbody tr th {\n",
       "        vertical-align: top;\n",
       "    }\n",
       "\n",
       "    .dataframe thead th {\n",
       "        text-align: right;\n",
       "    }\n",
       "</style>\n",
       "<table border=\"1\" class=\"dataframe\">\n",
       "  <thead>\n",
       "    <tr style=\"text-align: right;\">\n",
       "      <th></th>\n",
       "      <th>tweet_id</th>\n",
       "      <th>jpg_url</th>\n",
       "      <th>img_num</th>\n",
       "      <th>p1</th>\n",
       "      <th>p1_conf</th>\n",
       "      <th>p1_dog</th>\n",
       "      <th>p2</th>\n",
       "      <th>p2_conf</th>\n",
       "      <th>p2_dog</th>\n",
       "      <th>p3</th>\n",
       "      <th>p3_conf</th>\n",
       "      <th>p3_dog</th>\n",
       "    </tr>\n",
       "  </thead>\n",
       "  <tbody>\n",
       "    <tr>\n",
       "      <th>0</th>\n",
       "      <td>666020888022790149</td>\n",
       "      <td>https://pbs.twimg.com/media/CT4udn0WwAA0aMy.jpg</td>\n",
       "      <td>1</td>\n",
       "      <td>Welsh_springer_spaniel</td>\n",
       "      <td>0.465074</td>\n",
       "      <td>True</td>\n",
       "      <td>collie</td>\n",
       "      <td>0.156665</td>\n",
       "      <td>True</td>\n",
       "      <td>Shetland_sheepdog</td>\n",
       "      <td>0.061428</td>\n",
       "      <td>True</td>\n",
       "    </tr>\n",
       "    <tr>\n",
       "      <th>1</th>\n",
       "      <td>666029285002620928</td>\n",
       "      <td>https://pbs.twimg.com/media/CT42GRgUYAA5iDo.jpg</td>\n",
       "      <td>1</td>\n",
       "      <td>redbone</td>\n",
       "      <td>0.506826</td>\n",
       "      <td>True</td>\n",
       "      <td>miniature_pinscher</td>\n",
       "      <td>0.074192</td>\n",
       "      <td>True</td>\n",
       "      <td>Rhodesian_ridgeback</td>\n",
       "      <td>0.072010</td>\n",
       "      <td>True</td>\n",
       "    </tr>\n",
       "    <tr>\n",
       "      <th>2</th>\n",
       "      <td>666033412701032449</td>\n",
       "      <td>https://pbs.twimg.com/media/CT4521TWwAEvMyu.jpg</td>\n",
       "      <td>1</td>\n",
       "      <td>German_shepherd</td>\n",
       "      <td>0.596461</td>\n",
       "      <td>True</td>\n",
       "      <td>malinois</td>\n",
       "      <td>0.138584</td>\n",
       "      <td>True</td>\n",
       "      <td>bloodhound</td>\n",
       "      <td>0.116197</td>\n",
       "      <td>True</td>\n",
       "    </tr>\n",
       "    <tr>\n",
       "      <th>3</th>\n",
       "      <td>666044226329800704</td>\n",
       "      <td>https://pbs.twimg.com/media/CT5Dr8HUEAA-lEu.jpg</td>\n",
       "      <td>1</td>\n",
       "      <td>Rhodesian_ridgeback</td>\n",
       "      <td>0.408143</td>\n",
       "      <td>True</td>\n",
       "      <td>redbone</td>\n",
       "      <td>0.360687</td>\n",
       "      <td>True</td>\n",
       "      <td>miniature_pinscher</td>\n",
       "      <td>0.222752</td>\n",
       "      <td>True</td>\n",
       "    </tr>\n",
       "    <tr>\n",
       "      <th>4</th>\n",
       "      <td>666049248165822465</td>\n",
       "      <td>https://pbs.twimg.com/media/CT5IQmsXIAAKY4A.jpg</td>\n",
       "      <td>1</td>\n",
       "      <td>miniature_pinscher</td>\n",
       "      <td>0.560311</td>\n",
       "      <td>True</td>\n",
       "      <td>Rottweiler</td>\n",
       "      <td>0.243682</td>\n",
       "      <td>True</td>\n",
       "      <td>Doberman</td>\n",
       "      <td>0.154629</td>\n",
       "      <td>True</td>\n",
       "    </tr>\n",
       "  </tbody>\n",
       "</table>\n",
       "</div>"
      ],
      "text/plain": [
       "             tweet_id                                          jpg_url  \\\n",
       "0  666020888022790149  https://pbs.twimg.com/media/CT4udn0WwAA0aMy.jpg   \n",
       "1  666029285002620928  https://pbs.twimg.com/media/CT42GRgUYAA5iDo.jpg   \n",
       "2  666033412701032449  https://pbs.twimg.com/media/CT4521TWwAEvMyu.jpg   \n",
       "3  666044226329800704  https://pbs.twimg.com/media/CT5Dr8HUEAA-lEu.jpg   \n",
       "4  666049248165822465  https://pbs.twimg.com/media/CT5IQmsXIAAKY4A.jpg   \n",
       "\n",
       "   img_num                      p1   p1_conf  p1_dog                  p2  \\\n",
       "0        1  Welsh_springer_spaniel  0.465074    True              collie   \n",
       "1        1                 redbone  0.506826    True  miniature_pinscher   \n",
       "2        1         German_shepherd  0.596461    True            malinois   \n",
       "3        1     Rhodesian_ridgeback  0.408143    True             redbone   \n",
       "4        1      miniature_pinscher  0.560311    True          Rottweiler   \n",
       "\n",
       "    p2_conf  p2_dog                   p3   p3_conf  p3_dog  \n",
       "0  0.156665    True    Shetland_sheepdog  0.061428    True  \n",
       "1  0.074192    True  Rhodesian_ridgeback  0.072010    True  \n",
       "2  0.138584    True           bloodhound  0.116197    True  \n",
       "3  0.360687    True   miniature_pinscher  0.222752    True  \n",
       "4  0.243682    True             Doberman  0.154629    True  "
      ]
     },
     "execution_count": 591,
     "metadata": {},
     "output_type": "execute_result"
    }
   ],
   "source": [
    "images = pd.read_csv('image_predictions.tsv', sep = '\\t')\n",
    "images.head()"
   ]
  },
  {
   "cell_type": "code",
   "execution_count": 592,
   "metadata": {
    "scrolled": true
   },
   "outputs": [
    {
     "name": "stdout",
     "output_type": "stream",
     "text": [
      "<class 'pandas.core.frame.DataFrame'>\n",
      "RangeIndex: 2075 entries, 0 to 2074\n",
      "Data columns (total 12 columns):\n",
      "tweet_id    2075 non-null int64\n",
      "jpg_url     2075 non-null object\n",
      "img_num     2075 non-null int64\n",
      "p1          2075 non-null object\n",
      "p1_conf     2075 non-null float64\n",
      "p1_dog      2075 non-null bool\n",
      "p2          2075 non-null object\n",
      "p2_conf     2075 non-null float64\n",
      "p2_dog      2075 non-null bool\n",
      "p3          2075 non-null object\n",
      "p3_conf     2075 non-null float64\n",
      "p3_dog      2075 non-null bool\n",
      "dtypes: bool(3), float64(3), int64(2), object(4)\n",
      "memory usage: 152.1+ KB\n"
     ]
    }
   ],
   "source": [
    "images.info()"
   ]
  },
  {
   "cell_type": "code",
   "execution_count": 593,
   "metadata": {},
   "outputs": [
    {
     "data": {
      "text/plain": [
       "golden_retriever             150\n",
       "Labrador_retriever           100\n",
       "Pembroke                      89\n",
       "Chihuahua                     83\n",
       "pug                           57\n",
       "chow                          44\n",
       "Samoyed                       43\n",
       "toy_poodle                    39\n",
       "Pomeranian                    38\n",
       "malamute                      30\n",
       "cocker_spaniel                30\n",
       "French_bulldog                26\n",
       "miniature_pinscher            23\n",
       "Chesapeake_Bay_retriever      23\n",
       "seat_belt                     22\n",
       "German_shepherd               20\n",
       "Staffordshire_bullterrier     20\n",
       "Siberian_husky                20\n",
       "Cardigan                      19\n",
       "web_site                      19\n",
       "Shetland_sheepdog             18\n",
       "Maltese_dog                   18\n",
       "teddy                         18\n",
       "beagle                        18\n",
       "Eskimo_dog                    18\n",
       "Shih-Tzu                      17\n",
       "Rottweiler                    17\n",
       "Lakeland_terrier              17\n",
       "Italian_greyhound             16\n",
       "kuvasz                        16\n",
       "                            ... \n",
       "bison                          1\n",
       "bookcase                       1\n",
       "bighorn                        1\n",
       "pot                            1\n",
       "rain_barrel                    1\n",
       "restaurant                     1\n",
       "tick                           1\n",
       "terrapin                       1\n",
       "ibex                           1\n",
       "starfish                       1\n",
       "lacewing                       1\n",
       "rapeseed                       1\n",
       "trombone                       1\n",
       "earthstar                      1\n",
       "stove                          1\n",
       "bib                            1\n",
       "ping-pong_ball                 1\n",
       "hotdog                         1\n",
       "soccer_ball                    1\n",
       "grey_fox                       1\n",
       "sulphur-crested_cockatoo       1\n",
       "tricycle                       1\n",
       "clumber                        1\n",
       "shopping_basket                1\n",
       "military_uniform               1\n",
       "cup                            1\n",
       "bald_eagle                     1\n",
       "sea_urchin                     1\n",
       "dhole                          1\n",
       "piggy_bank                     1\n",
       "Name: p1, Length: 378, dtype: int64"
      ]
     },
     "execution_count": 593,
     "metadata": {},
     "output_type": "execute_result"
    }
   ],
   "source": [
    "images['p1'].value_counts()"
   ]
  },
  {
   "cell_type": "code",
   "execution_count": 594,
   "metadata": {},
   "outputs": [
    {
     "data": {
      "text/plain": [
       "Labrador_retriever                104\n",
       "golden_retriever                   92\n",
       "Cardigan                           73\n",
       "Chihuahua                          44\n",
       "Pomeranian                         42\n",
       "French_bulldog                     41\n",
       "Chesapeake_Bay_retriever           41\n",
       "toy_poodle                         37\n",
       "cocker_spaniel                     34\n",
       "Siberian_husky                     33\n",
       "miniature_poodle                   33\n",
       "beagle                             28\n",
       "collie                             27\n",
       "Eskimo_dog                         27\n",
       "Pembroke                           27\n",
       "kuvasz                             26\n",
       "Italian_greyhound                  22\n",
       "Pekinese                           21\n",
       "American_Staffordshire_terrier     21\n",
       "malinois                           20\n",
       "miniature_pinscher                 20\n",
       "chow                               20\n",
       "toy_terrier                        20\n",
       "Samoyed                            20\n",
       "Boston_bull                        19\n",
       "Norwegian_elkhound                 19\n",
       "Staffordshire_bullterrier          18\n",
       "pug                                17\n",
       "Irish_terrier                      17\n",
       "Shih-Tzu                           16\n",
       "                                 ... \n",
       "siamang                             1\n",
       "computer_keyboard                   1\n",
       "giant_panda                         1\n",
       "Japanese_spaniel                    1\n",
       "desk                                1\n",
       "shoji                               1\n",
       "spatula                             1\n",
       "sliding_door                        1\n",
       "shower_curtain                      1\n",
       "sunglass                            1\n",
       "turnstile                           1\n",
       "Madagascar_cat                      1\n",
       "folding_chair                       1\n",
       "spotted_salamander                  1\n",
       "snail                               1\n",
       "television                          1\n",
       "ice_lolly                           1\n",
       "hay                                 1\n",
       "minibus                             1\n",
       "cradle                              1\n",
       "pier                                1\n",
       "ashcan                              1\n",
       "promontory                          1\n",
       "tree_frog                           1\n",
       "hummingbird                         1\n",
       "pickup                              1\n",
       "patio                               1\n",
       "bow                                 1\n",
       "grey_fox                            1\n",
       "bathing_cap                         1\n",
       "Name: p2, Length: 405, dtype: int64"
      ]
     },
     "execution_count": 594,
     "metadata": {},
     "output_type": "execute_result"
    }
   ],
   "source": [
    "images['p2'].value_counts()"
   ]
  },
  {
   "cell_type": "code",
   "execution_count": 595,
   "metadata": {
    "scrolled": true
   },
   "outputs": [
    {
     "data": {
      "text/plain": [
       "Labrador_retriever                79\n",
       "Chihuahua                         58\n",
       "golden_retriever                  48\n",
       "Eskimo_dog                        38\n",
       "kelpie                            35\n",
       "kuvasz                            34\n",
       "chow                              32\n",
       "Staffordshire_bullterrier         32\n",
       "cocker_spaniel                    31\n",
       "beagle                            31\n",
       "toy_poodle                        29\n",
       "Pekinese                          29\n",
       "Pomeranian                        29\n",
       "Great_Pyrenees                    27\n",
       "Pembroke                          27\n",
       "Chesapeake_Bay_retriever          27\n",
       "French_bulldog                    26\n",
       "malamute                          26\n",
       "American_Staffordshire_terrier    24\n",
       "pug                               23\n",
       "Cardigan                          23\n",
       "basenji                           21\n",
       "bull_mastiff                      20\n",
       "toy_terrier                       20\n",
       "Siberian_husky                    19\n",
       "Shetland_sheepdog                 17\n",
       "Boston_bull                       17\n",
       "boxer                             16\n",
       "doormat                           16\n",
       "Lakeland_terrier                  16\n",
       "                                  ..\n",
       "tiger_cat                          1\n",
       "shower_cap                         1\n",
       "wing                               1\n",
       "rifle                              1\n",
       "Indian_elephant                    1\n",
       "rain_barrel                        1\n",
       "oscilloscope                       1\n",
       "French_horn                        1\n",
       "quill                              1\n",
       "lampshade                          1\n",
       "crossword_puzzle                   1\n",
       "spatula                            1\n",
       "European_fire_salamander           1\n",
       "seashore                           1\n",
       "rotisserie                         1\n",
       "restaurant                         1\n",
       "chickadee                          1\n",
       "shoji                              1\n",
       "croquet_ball                       1\n",
       "grocery_store                      1\n",
       "joystick                           1\n",
       "loupe                              1\n",
       "pajama                             1\n",
       "bow                                1\n",
       "affenpinscher                      1\n",
       "soap_dispenser                     1\n",
       "balance_beam                       1\n",
       "bow_tie                            1\n",
       "loggerhead                         1\n",
       "crayfish                           1\n",
       "Name: p3, Length: 408, dtype: int64"
      ]
     },
     "execution_count": 595,
     "metadata": {},
     "output_type": "execute_result"
    }
   ],
   "source": [
    "images['p3'].value_counts()"
   ]
  },
  {
   "cell_type": "code",
   "execution_count": 596,
   "metadata": {
    "scrolled": true
   },
   "outputs": [
    {
     "data": {
      "text/plain": [
       "tweet_id    2075\n",
       "jpg_url     2075\n",
       "img_num     2075\n",
       "p1          2075\n",
       "p1_conf     2075\n",
       "p1_dog      2075\n",
       "p2          2075\n",
       "p2_conf     2075\n",
       "p2_dog      2075\n",
       "p3          2075\n",
       "p3_conf     2075\n",
       "p3_dog      2075\n",
       "dtype: int64"
      ]
     },
     "execution_count": 596,
     "metadata": {},
     "output_type": "execute_result"
    }
   ],
   "source": [
    "images.count()\n"
   ]
  },
  {
   "cell_type": "code",
   "execution_count": 597,
   "metadata": {
    "scrolled": true
   },
   "outputs": [
    {
     "data": {
      "text/plain": [
       "https://pbs.twimg.com/media/C12whDoVEAALRxa.jpg                                            2\n",
       "https://pbs.twimg.com/media/CtVAvX-WIAAcGTf.jpg                                            2\n",
       "https://pbs.twimg.com/media/CW88XN4WsAAlo8r.jpg                                            2\n",
       "https://pbs.twimg.com/media/CsGnz64WYAEIDHJ.jpg                                            2\n",
       "https://pbs.twimg.com/media/CVgdFjNWEAAxmbq.jpg                                            2\n",
       "https://pbs.twimg.com/media/CtKHLuCWYAA2TTs.jpg                                            2\n",
       "https://pbs.twimg.com/ext_tw_video_thumb/817423809049493505/pu/img/5OFW0yueFu9oTUiQ.jpg    2\n",
       "https://pbs.twimg.com/media/CUN4Or5UAAAa5K4.jpg                                            2\n",
       "https://pbs.twimg.com/media/CrXhIqBW8AA6Bse.jpg                                            2\n",
       "https://pbs.twimg.com/media/CVMOlMiWwAA4Yxl.jpg                                            2\n",
       "https://pbs.twimg.com/media/CvoBPWRWgAA4het.jpg                                            2\n",
       "https://pbs.twimg.com/media/CWyD2HGUYAQ1Xa7.jpg                                            2\n",
       "https://pbs.twimg.com/media/Ck2d7tJWUAEPTL3.jpg                                            2\n",
       "https://pbs.twimg.com/media/CkNjahBXAAQ2kWo.jpg                                            2\n",
       "https://pbs.twimg.com/media/C12x-JTVIAAzdfl.jpg                                            2\n",
       "https://pbs.twimg.com/media/CZhn-QAWwAASQan.jpg                                            2\n",
       "https://pbs.twimg.com/media/CVuQ2LeUsAAIe3s.jpg                                            2\n",
       "https://pbs.twimg.com/media/CmoPdmHW8AAi8BI.jpg                                            2\n",
       "https://pbs.twimg.com/media/CwiuEJmW8AAZnit.jpg                                            2\n",
       "https://pbs.twimg.com/ext_tw_video_thumb/815965888126062592/pu/img/JleSw4wRhgKDWQj5.jpg    2\n",
       "https://pbs.twimg.com/media/Cp6db4-XYAAMmqL.jpg                                            2\n",
       "https://pbs.twimg.com/media/ChK1tdBWwAQ1flD.jpg                                            2\n",
       "https://pbs.twimg.com/media/Cveg1-NXgAASaaT.jpg                                            2\n",
       "https://pbs.twimg.com/media/Crwxb5yWgAAX5P_.jpg                                            2\n",
       "https://pbs.twimg.com/media/Co-hmcYXYAASkiG.jpg                                            2\n",
       "https://pbs.twimg.com/media/CU1zsMSUAAAS0qW.jpg                                            2\n",
       "https://pbs.twimg.com/media/Cs_DYr1XEAA54Pu.jpg                                            2\n",
       "https://pbs.twimg.com/tweet_video_thumb/CeBym7oXEAEWbEg.jpg                                2\n",
       "https://pbs.twimg.com/media/Ct2qO5PXEAE6eB0.jpg                                            2\n",
       "https://pbs.twimg.com/media/CV_cnjHWUAADc-c.jpg                                            2\n",
       "                                                                                          ..\n",
       "https://pbs.twimg.com/media/DEEEnIqXYAAiJh_.jpg                                            1\n",
       "https://pbs.twimg.com/media/CVlsVs3WIAAja6m.jpg                                            1\n",
       "https://pbs.twimg.com/media/CfpNGTHUIAAA8XC.jpg                                            1\n",
       "https://pbs.twimg.com/media/CjlpmZaUgAED54W.jpg                                            1\n",
       "https://pbs.twimg.com/media/CWc5uVPXIAErLYr.jpg                                            1\n",
       "https://pbs.twimg.com/media/Clb5pLJWMAE-QS1.jpg                                            1\n",
       "https://pbs.twimg.com/media/CvQLdotWcAAZn86.jpg                                            1\n",
       "https://pbs.twimg.com/ext_tw_video_thumb/729838572744912896/pu/img/RIl-XYmRxW-YLFSV.jpg    1\n",
       "https://pbs.twimg.com/ext_tw_video_thumb/762471745303355393/pu/img/RKcEUz7-VDipoGKJ.jpg    1\n",
       "https://pbs.twimg.com/media/CUg9gBvWoAAmx-2.jpg                                            1\n",
       "https://pbs.twimg.com/media/CxeseRgUoAM_SQK.jpg                                            1\n",
       "https://pbs.twimg.com/media/CU3AxW1WoAA3_35.jpg                                            1\n",
       "https://pbs.twimg.com/media/CcLq7ipW4AArSGZ.jpg                                            1\n",
       "https://pbs.twimg.com/media/CWDrGH4UYAARoq_.jpg                                            1\n",
       "https://pbs.twimg.com/media/CYF3TSlWMAAaoG5.jpg                                            1\n",
       "https://pbs.twimg.com/media/CT54YGiWUAEZnoK.jpg                                            1\n",
       "https://pbs.twimg.com/media/DEyfTG4UMAE4aE9.jpg                                            1\n",
       "https://pbs.twimg.com/media/CWZBsjPWsAAZFFl.jpg                                            1\n",
       "https://pbs.twimg.com/media/C5oSiskU0AE8sJ_.jpg                                            1\n",
       "https://pbs.twimg.com/media/C0dSk98WEAALyya.jpg                                            1\n",
       "https://pbs.twimg.com/media/C0xz04SVIAAeyDb.jpg                                            1\n",
       "https://pbs.twimg.com/media/CT-D2ZHWIAA3gK1.jpg                                            1\n",
       "https://pbs.twimg.com/media/CVMJ9guXAAAhAiK.jpg                                            1\n",
       "https://pbs.twimg.com/media/CyNPmJgXcAECPuB.jpg                                            1\n",
       "https://pbs.twimg.com/media/CT-NvwmW4AAugGZ.jpg                                            1\n",
       "https://pbs.twimg.com/media/CaLBJmOWYAQt44t.jpg                                            1\n",
       "https://pbs.twimg.com/media/CU8ceuxWUAALMEo.jpg                                            1\n",
       "https://pbs.twimg.com/media/CwRN8H6WgAASe4X.jpg                                            1\n",
       "https://pbs.twimg.com/media/Cc6jcYRXIAAFuox.jpg                                            1\n",
       "https://pbs.twimg.com/media/CWJmzNsWUAE706Z.jpg                                            1\n",
       "Name: jpg_url, Length: 2009, dtype: int64"
      ]
     },
     "execution_count": 597,
     "metadata": {},
     "output_type": "execute_result"
    }
   ],
   "source": [
    "images['jpg_url'].value_counts()"
   ]
  },
  {
   "cell_type": "code",
   "execution_count": 701,
   "metadata": {
    "scrolled": true
   },
   "outputs": [
    {
     "data": {
      "text/html": [
       "<img src=\"https://pbs.twimg.com/media/CcLq7ipW4AArSGZ.jpg\"/>"
      ],
      "text/plain": [
       "<IPython.core.display.Image object>"
      ]
     },
     "execution_count": 701,
     "metadata": {},
     "output_type": "execute_result"
    }
   ],
   "source": [
    "from IPython.display import display \n",
    "Image(url = 'https://pbs.twimg.com/media/CcLq7ipW4AArSGZ.jpg')"
   ]
  },
  {
   "cell_type": "code",
   "execution_count": 598,
   "metadata": {
    "scrolled": false
   },
   "outputs": [
    {
     "data": {
      "text/plain": [
       "685532292383666176    1\n",
       "826598365270007810    1\n",
       "692158366030913536    1\n",
       "714606013974974464    1\n",
       "715696743237730304    1\n",
       "776477788987613185    1\n",
       "772114945936949249    1\n",
       "699775878809702401    1\n",
       "780858289093574656    1\n",
       "700462010979500032    1\n",
       "732726085725589504    1\n",
       "738883359779196928    1\n",
       "798644042770751489    1\n",
       "743510151680958465    1\n",
       "837012587749474308    1\n",
       "833722901757046785    1\n",
       "668620235289837568    1\n",
       "842765311967449089    1\n",
       "685315239903100929    1\n",
       "673686845050527744    1\n",
       "680473011644985345    1\n",
       "666051853826850816    1\n",
       "675853064436391936    1\n",
       "693231807727280129    1\n",
       "705475953783398401    1\n",
       "829449946868879360    1\n",
       "759923798737051648    1\n",
       "667160273090932737    1\n",
       "680934982542561280    1\n",
       "743545585370791937    1\n",
       "                     ..\n",
       "794926597468000259    1\n",
       "776113305656188928    1\n",
       "825026590719483904    1\n",
       "834209720923721728    1\n",
       "775733305207554048    1\n",
       "669564461267722241    1\n",
       "879492040517615616    1\n",
       "720775346191278080    1\n",
       "666362758909284353    1\n",
       "750506206503038976    1\n",
       "693155686491000832    1\n",
       "793601777308463104    1\n",
       "740373189193256964    1\n",
       "754482103782404096    1\n",
       "881536004380872706    1\n",
       "843604394117681152    1\n",
       "748307329658011649    1\n",
       "759846353224826880    1\n",
       "885984800019947520    1\n",
       "773922284943896577    1\n",
       "666345417576210432    1\n",
       "837482249356513284    1\n",
       "812781120811126785    1\n",
       "870804317367881728    1\n",
       "790698755171364864    1\n",
       "816829038950027264    1\n",
       "847971574464610304    1\n",
       "713175907180089344    1\n",
       "670338931251150849    1\n",
       "700151421916807169    1\n",
       "Name: tweet_id, Length: 2075, dtype: int64"
      ]
     },
     "execution_count": 598,
     "metadata": {},
     "output_type": "execute_result"
    }
   ],
   "source": [
    "images['tweet_id'].value_counts()"
   ]
  },
  {
   "cell_type": "code",
   "execution_count": 599,
   "metadata": {},
   "outputs": [
    {
     "data": {
      "text/plain": [
       "0       False\n",
       "1       False\n",
       "2       False\n",
       "3       False\n",
       "4       False\n",
       "5       False\n",
       "6       False\n",
       "7       False\n",
       "8       False\n",
       "9       False\n",
       "10      False\n",
       "11      False\n",
       "12      False\n",
       "13      False\n",
       "14      False\n",
       "15      False\n",
       "16      False\n",
       "17      False\n",
       "18      False\n",
       "19      False\n",
       "20      False\n",
       "21      False\n",
       "22      False\n",
       "23      False\n",
       "24      False\n",
       "25      False\n",
       "26      False\n",
       "27      False\n",
       "28      False\n",
       "29      False\n",
       "        ...  \n",
       "2045    False\n",
       "2046    False\n",
       "2047    False\n",
       "2048    False\n",
       "2049    False\n",
       "2050    False\n",
       "2051    False\n",
       "2052    False\n",
       "2053    False\n",
       "2054    False\n",
       "2055    False\n",
       "2056    False\n",
       "2057    False\n",
       "2058    False\n",
       "2059    False\n",
       "2060    False\n",
       "2061    False\n",
       "2062    False\n",
       "2063    False\n",
       "2064    False\n",
       "2065    False\n",
       "2066    False\n",
       "2067    False\n",
       "2068    False\n",
       "2069    False\n",
       "2070    False\n",
       "2071    False\n",
       "2072    False\n",
       "2073    False\n",
       "2074    False\n",
       "Name: tweet_id, Length: 2075, dtype: bool"
      ]
     },
     "execution_count": 599,
     "metadata": {},
     "output_type": "execute_result"
    }
   ],
   "source": [
    "images['tweet_id'].duplicated()"
   ]
  },
  {
   "cell_type": "code",
   "execution_count": 600,
   "metadata": {},
   "outputs": [
    {
     "data": {
      "text/plain": [
       "2075"
      ]
     },
     "execution_count": 600,
     "metadata": {},
     "output_type": "execute_result"
    }
   ],
   "source": [
    "len(images['tweet_id'].value_counts())"
   ]
  },
  {
   "cell_type": "code",
   "execution_count": 601,
   "metadata": {
    "scrolled": true
   },
   "outputs": [
    {
     "data": {
      "text/plain": [
       "tweet_id    2075\n",
       "jpg_url     2009\n",
       "img_num        4\n",
       "p1           378\n",
       "p1_conf     2006\n",
       "p1_dog         2\n",
       "p2           405\n",
       "p2_conf     2004\n",
       "p2_dog         2\n",
       "p3           408\n",
       "p3_conf     2006\n",
       "p3_dog         2\n",
       "dtype: int64"
      ]
     },
     "execution_count": 601,
     "metadata": {},
     "output_type": "execute_result"
    }
   ],
   "source": [
    "images.nunique()"
   ]
  },
  {
   "cell_type": "code",
   "execution_count": 602,
   "metadata": {},
   "outputs": [
    {
     "data": {
      "text/html": [
       "<div>\n",
       "<style scoped>\n",
       "    .dataframe tbody tr th:only-of-type {\n",
       "        vertical-align: middle;\n",
       "    }\n",
       "\n",
       "    .dataframe tbody tr th {\n",
       "        vertical-align: top;\n",
       "    }\n",
       "\n",
       "    .dataframe thead th {\n",
       "        text-align: right;\n",
       "    }\n",
       "</style>\n",
       "<table border=\"1\" class=\"dataframe\">\n",
       "  <thead>\n",
       "    <tr style=\"text-align: right;\">\n",
       "      <th></th>\n",
       "      <th>tweet_id</th>\n",
       "      <th>img_num</th>\n",
       "      <th>p1_conf</th>\n",
       "      <th>p2_conf</th>\n",
       "      <th>p3_conf</th>\n",
       "    </tr>\n",
       "  </thead>\n",
       "  <tbody>\n",
       "    <tr>\n",
       "      <th>count</th>\n",
       "      <td>2.075000e+03</td>\n",
       "      <td>2075.000000</td>\n",
       "      <td>2075.000000</td>\n",
       "      <td>2.075000e+03</td>\n",
       "      <td>2.075000e+03</td>\n",
       "    </tr>\n",
       "    <tr>\n",
       "      <th>mean</th>\n",
       "      <td>7.384514e+17</td>\n",
       "      <td>1.203855</td>\n",
       "      <td>0.594548</td>\n",
       "      <td>1.345886e-01</td>\n",
       "      <td>6.032417e-02</td>\n",
       "    </tr>\n",
       "    <tr>\n",
       "      <th>std</th>\n",
       "      <td>6.785203e+16</td>\n",
       "      <td>0.561875</td>\n",
       "      <td>0.271174</td>\n",
       "      <td>1.006657e-01</td>\n",
       "      <td>5.090593e-02</td>\n",
       "    </tr>\n",
       "    <tr>\n",
       "      <th>min</th>\n",
       "      <td>6.660209e+17</td>\n",
       "      <td>1.000000</td>\n",
       "      <td>0.044333</td>\n",
       "      <td>1.011300e-08</td>\n",
       "      <td>1.740170e-10</td>\n",
       "    </tr>\n",
       "    <tr>\n",
       "      <th>25%</th>\n",
       "      <td>6.764835e+17</td>\n",
       "      <td>1.000000</td>\n",
       "      <td>0.364412</td>\n",
       "      <td>5.388625e-02</td>\n",
       "      <td>1.622240e-02</td>\n",
       "    </tr>\n",
       "    <tr>\n",
       "      <th>50%</th>\n",
       "      <td>7.119988e+17</td>\n",
       "      <td>1.000000</td>\n",
       "      <td>0.588230</td>\n",
       "      <td>1.181810e-01</td>\n",
       "      <td>4.944380e-02</td>\n",
       "    </tr>\n",
       "    <tr>\n",
       "      <th>75%</th>\n",
       "      <td>7.932034e+17</td>\n",
       "      <td>1.000000</td>\n",
       "      <td>0.843855</td>\n",
       "      <td>1.955655e-01</td>\n",
       "      <td>9.180755e-02</td>\n",
       "    </tr>\n",
       "    <tr>\n",
       "      <th>max</th>\n",
       "      <td>8.924206e+17</td>\n",
       "      <td>4.000000</td>\n",
       "      <td>1.000000</td>\n",
       "      <td>4.880140e-01</td>\n",
       "      <td>2.734190e-01</td>\n",
       "    </tr>\n",
       "  </tbody>\n",
       "</table>\n",
       "</div>"
      ],
      "text/plain": [
       "           tweet_id      img_num      p1_conf       p2_conf       p3_conf\n",
       "count  2.075000e+03  2075.000000  2075.000000  2.075000e+03  2.075000e+03\n",
       "mean   7.384514e+17     1.203855     0.594548  1.345886e-01  6.032417e-02\n",
       "std    6.785203e+16     0.561875     0.271174  1.006657e-01  5.090593e-02\n",
       "min    6.660209e+17     1.000000     0.044333  1.011300e-08  1.740170e-10\n",
       "25%    6.764835e+17     1.000000     0.364412  5.388625e-02  1.622240e-02\n",
       "50%    7.119988e+17     1.000000     0.588230  1.181810e-01  4.944380e-02\n",
       "75%    7.932034e+17     1.000000     0.843855  1.955655e-01  9.180755e-02\n",
       "max    8.924206e+17     4.000000     1.000000  4.880140e-01  2.734190e-01"
      ]
     },
     "execution_count": 602,
     "metadata": {},
     "output_type": "execute_result"
    }
   ],
   "source": [
    "images.describe()"
   ]
  },
  {
   "cell_type": "code",
   "execution_count": 603,
   "metadata": {},
   "outputs": [],
   "source": [
    "#obtaining tweet_ids from API however was having issue with storing data so I\n",
    "#imported the data from tweet-json.tx file\n",
    "#start = time.time()\n",
    "\n",
    "#tweet_ids = twitter.tweet_id.values\n",
    "\n",
    "#tweets_data = []\n",
    "#tweet_success = []\n",
    "#tweet_failure = []\n",
    "\n",
    "#for tweet_id in tweet_ids:\n",
    "        #try:\n",
    "            #data = api.get_status(tweet_id, tweet_mode='extended', \n",
    "                                  #wait_on_rate_limit = True, \n",
    "                                  #wait_on_rate_limit_notify = True)\n",
    "            #tweets_data.append(data)\n",
    "            #tweet_success.append(tweet_id)\n",
    "        #except:\n",
    "           # tweet_failure.append(tweet_id)\n",
    "           # print(tweet_id)\n",
    "#with open('tweet_json.txt', mode = 'w+') as file:\n",
    " #   json.dump(tweets_data, file)\n",
    "# this stops the timer            \n",
    "#end = time.time()\n",
    "\n",
    "#print(end - start)"
   ]
  },
  {
   "cell_type": "markdown",
   "metadata": {},
   "source": [
    "## Importing tweet-json.txt"
   ]
  },
  {
   "cell_type": "code",
   "execution_count": 604,
   "metadata": {},
   "outputs": [
    {
     "name": "stdout",
     "output_type": "stream",
     "text": [
      "{\n",
      "  \"created_at\": \"Tue Aug 01 16:23:56 +0000 2017\",\n",
      "  \"id\": 892420643555336193,\n",
      "  \"id_str\": \"892420643555336193\",\n",
      "  \"full_text\": \"This is Phineas. He's a mystical boy. Only ever appears in the hole of a donut. 13/10 https://t.co/MgUWQ76dJU\",\n",
      "  \"truncated\": false,\n",
      "  \"display_text_range\": [\n",
      "    0,\n",
      "    85\n",
      "  ],\n",
      "  \"entities\": {\n",
      "    \"hashtags\": [],\n",
      "    \"symbols\": [],\n",
      "    \"user_mentions\": [],\n",
      "    \"urls\": [],\n",
      "    \"media\": [\n",
      "      {\n",
      "        \"id\": 892420639486877696,\n",
      "        \"id_str\": \"892420639486877696\",\n",
      "        \"indices\": [\n",
      "          86,\n",
      "          109\n",
      "        ],\n",
      "        \"media_url\": \"http://pbs.twimg.com/media/DGKD1-bXoAAIAUK.jpg\",\n",
      "        \"media_url_https\": \"https://pbs.twimg.com/media/DGKD1-bXoAAIAUK.jpg\",\n",
      "        \"url\": \"https://t.co/MgUWQ76dJU\",\n",
      "        \"display_url\": \"pic.twitter.com/MgUWQ76dJU\",\n",
      "        \"expanded_url\": \"https://twitter.com/dog_rates/status/892420643555336193/photo/1\",\n",
      "        \"type\": \"photo\",\n",
      "        \"sizes\": {\n",
      "          \"large\": {\n",
      "            \"w\": 540,\n",
      "            \"h\": 528,\n",
      "            \"resize\": \"fit\"\n",
      "          },\n",
      "          \"thumb\": {\n",
      "            \"w\": 150,\n",
      "            \"h\": 150,\n",
      "            \"resize\": \"crop\"\n",
      "          },\n",
      "          \"small\": {\n",
      "            \"w\": 540,\n",
      "            \"h\": 528,\n",
      "            \"resize\": \"fit\"\n",
      "          },\n",
      "          \"medium\": {\n",
      "            \"w\": 540,\n",
      "            \"h\": 528,\n",
      "            \"resize\": \"fit\"\n",
      "          }\n",
      "        }\n",
      "      }\n",
      "    ]\n",
      "  },\n",
      "  \"extended_entities\": {\n",
      "    \"media\": [\n",
      "      {\n",
      "        \"id\": 892420639486877696,\n",
      "        \"id_str\": \"892420639486877696\",\n",
      "        \"indices\": [\n",
      "          86,\n",
      "          109\n",
      "        ],\n",
      "        \"media_url\": \"http://pbs.twimg.com/media/DGKD1-bXoAAIAUK.jpg\",\n",
      "        \"media_url_https\": \"https://pbs.twimg.com/media/DGKD1-bXoAAIAUK.jpg\",\n",
      "        \"url\": \"https://t.co/MgUWQ76dJU\",\n",
      "        \"display_url\": \"pic.twitter.com/MgUWQ76dJU\",\n",
      "        \"expanded_url\": \"https://twitter.com/dog_rates/status/892420643555336193/photo/1\",\n",
      "        \"type\": \"photo\",\n",
      "        \"sizes\": {\n",
      "          \"large\": {\n",
      "            \"w\": 540,\n",
      "            \"h\": 528,\n",
      "            \"resize\": \"fit\"\n",
      "          },\n",
      "          \"thumb\": {\n",
      "            \"w\": 150,\n",
      "            \"h\": 150,\n",
      "            \"resize\": \"crop\"\n",
      "          },\n",
      "          \"small\": {\n",
      "            \"w\": 540,\n",
      "            \"h\": 528,\n",
      "            \"resize\": \"fit\"\n",
      "          },\n",
      "          \"medium\": {\n",
      "            \"w\": 540,\n",
      "            \"h\": 528,\n",
      "            \"resize\": \"fit\"\n",
      "          }\n",
      "        }\n",
      "      }\n",
      "    ]\n",
      "  },\n",
      "  \"source\": \"<a href=\\\"http://twitter.com/download/iphone\\\" rel=\\\"nofollow\\\">Twitter for iPhone</a>\",\n",
      "  \"in_reply_to_status_id\": null,\n",
      "  \"in_reply_to_status_id_str\": null,\n",
      "  \"in_reply_to_user_id\": null,\n",
      "  \"in_reply_to_user_id_str\": null,\n",
      "  \"in_reply_to_screen_name\": null,\n",
      "  \"user\": {\n",
      "    \"id\": 4196983835,\n",
      "    \"id_str\": \"4196983835\",\n",
      "    \"name\": \"WeRateDogs\\u2122 (author)\",\n",
      "    \"screen_name\": \"dog_rates\",\n",
      "    \"location\": \"DM YOUR DOGS, WE WILL RATE\",\n",
      "    \"description\": \"#1 Source for Professional Dog Ratings | STORE: @ShopWeRateDogs | IG, FB & SC: WeRateDogs MOBILE APP: @GoodDogsGame | Business: dogratingtwitter@gmail.com\",\n",
      "    \"url\": \"https://t.co/N7sNNHAEXS\",\n",
      "    \"entities\": {\n",
      "      \"url\": {\n",
      "        \"urls\": [\n",
      "          {\n",
      "            \"url\": \"https://t.co/N7sNNHAEXS\",\n",
      "            \"expanded_url\": \"http://weratedogs.com\",\n",
      "            \"display_url\": \"weratedogs.com\",\n",
      "            \"indices\": [\n",
      "              0,\n",
      "              23\n",
      "            ]\n",
      "          }\n",
      "        ]\n",
      "      },\n",
      "      \"description\": {\n",
      "        \"urls\": []\n",
      "      }\n",
      "    },\n",
      "    \"protected\": false,\n",
      "    \"followers_count\": 3200889,\n",
      "    \"friends_count\": 104,\n",
      "    \"listed_count\": 2784,\n",
      "    \"created_at\": \"Sun Nov 15 21:41:29 +0000 2015\",\n",
      "    \"favourites_count\": 114031,\n",
      "    \"utc_offset\": null,\n",
      "    \"time_zone\": null,\n",
      "    \"geo_enabled\": true,\n",
      "    \"verified\": true,\n",
      "    \"statuses_count\": 5288,\n",
      "    \"lang\": \"en\",\n",
      "    \"contributors_enabled\": false,\n",
      "    \"is_translator\": false,\n",
      "    \"is_translation_enabled\": false,\n",
      "    \"profile_background_color\": \"000000\",\n",
      "    \"profile_background_image_url\": \"http://abs.twimg.com/images/themes/theme1/bg.png\",\n",
      "    \"profile_background_image_url_https\": \"https://abs.twimg.com/images/themes/theme1/bg.png\",\n",
      "    \"profile_background_tile\": false,\n",
      "    \"profile_image_url\": \"http://pbs.twimg.com/profile_images/861415328504569856/R2xOOfwe_normal.jpg\",\n",
      "    \"profile_image_url_https\": \"https://pbs.twimg.com/profile_images/861415328504569856/R2xOOfwe_normal.jpg\",\n",
      "    \"profile_banner_url\": \"https://pbs.twimg.com/profile_banners/4196983835/1501129017\",\n",
      "    \"profile_link_color\": \"F5ABB5\",\n",
      "    \"profile_sidebar_border_color\": \"000000\",\n",
      "    \"profile_sidebar_fill_color\": \"000000\",\n",
      "    \"profile_text_color\": \"000000\",\n",
      "    \"profile_use_background_image\": false,\n",
      "    \"has_extended_profile\": true,\n",
      "    \"default_profile\": false,\n",
      "    \"default_profile_image\": false,\n",
      "    \"following\": true,\n",
      "    \"follow_request_sent\": false,\n",
      "    \"notifications\": false,\n",
      "    \"translator_type\": \"none\"\n",
      "  },\n",
      "  \"geo\": null,\n",
      "  \"coordinates\": null,\n",
      "  \"place\": null,\n",
      "  \"contributors\": null,\n",
      "  \"is_quote_status\": false,\n",
      "  \"retweet_count\": 8853,\n",
      "  \"favorite_count\": 39467,\n",
      "  \"favorited\": false,\n",
      "  \"retweeted\": false,\n",
      "  \"possibly_sensitive\": false,\n",
      "  \"possibly_sensitive_appealable\": false,\n",
      "  \"lang\": \"en\"\n",
      "}\n"
     ]
    }
   ],
   "source": [
    "#Since I wasn't having luck with my API I used the Udacity txt file\n",
    "with open('tweet-json.txt', 'r') as json_file:\n",
    "    for line in json_file:\n",
    "        json_data = json.loads(line)\n",
    "        print(json.dumps(json_data, indent=2))\n",
    "        break"
   ]
  },
  {
   "cell_type": "code",
   "execution_count": 605,
   "metadata": {},
   "outputs": [],
   "source": [
    "selected_attr = []\n",
    "\n",
    "with open('tweet-json.txt', 'r') as json_file:\n",
    "    for line in json_file:\n",
    "        json_data = json.loads(line)\n",
    "        selected_attr.append({'tweet_id': json_data['id'],\n",
    "                             'favorites': json_data['favorite_count'],\n",
    "                             'retweets': json_data['retweet_count']})\n",
    "#Created the txt file now as a csv        \n",
    "twitter2 = pd.DataFrame(selected_attr, columns=['tweet_id', 'favorites', 'retweets'])"
   ]
  },
  {
   "cell_type": "code",
   "execution_count": 606,
   "metadata": {
    "scrolled": true
   },
   "outputs": [
    {
     "data": {
      "text/html": [
       "<div>\n",
       "<style scoped>\n",
       "    .dataframe tbody tr th:only-of-type {\n",
       "        vertical-align: middle;\n",
       "    }\n",
       "\n",
       "    .dataframe tbody tr th {\n",
       "        vertical-align: top;\n",
       "    }\n",
       "\n",
       "    .dataframe thead th {\n",
       "        text-align: right;\n",
       "    }\n",
       "</style>\n",
       "<table border=\"1\" class=\"dataframe\">\n",
       "  <thead>\n",
       "    <tr style=\"text-align: right;\">\n",
       "      <th></th>\n",
       "      <th>tweet_id</th>\n",
       "      <th>favorites</th>\n",
       "      <th>retweets</th>\n",
       "    </tr>\n",
       "  </thead>\n",
       "  <tbody>\n",
       "    <tr>\n",
       "      <th>0</th>\n",
       "      <td>892420643555336193</td>\n",
       "      <td>39467</td>\n",
       "      <td>8853</td>\n",
       "    </tr>\n",
       "    <tr>\n",
       "      <th>1</th>\n",
       "      <td>892177421306343426</td>\n",
       "      <td>33819</td>\n",
       "      <td>6514</td>\n",
       "    </tr>\n",
       "    <tr>\n",
       "      <th>2</th>\n",
       "      <td>891815181378084864</td>\n",
       "      <td>25461</td>\n",
       "      <td>4328</td>\n",
       "    </tr>\n",
       "    <tr>\n",
       "      <th>3</th>\n",
       "      <td>891689557279858688</td>\n",
       "      <td>42908</td>\n",
       "      <td>8964</td>\n",
       "    </tr>\n",
       "    <tr>\n",
       "      <th>4</th>\n",
       "      <td>891327558926688256</td>\n",
       "      <td>41048</td>\n",
       "      <td>9774</td>\n",
       "    </tr>\n",
       "  </tbody>\n",
       "</table>\n",
       "</div>"
      ],
      "text/plain": [
       "             tweet_id  favorites  retweets\n",
       "0  892420643555336193      39467      8853\n",
       "1  892177421306343426      33819      6514\n",
       "2  891815181378084864      25461      4328\n",
       "3  891689557279858688      42908      8964\n",
       "4  891327558926688256      41048      9774"
      ]
     },
     "execution_count": 606,
     "metadata": {},
     "output_type": "execute_result"
    }
   ],
   "source": [
    "twitter2.head()"
   ]
  },
  {
   "cell_type": "code",
   "execution_count": 607,
   "metadata": {},
   "outputs": [
    {
     "name": "stdout",
     "output_type": "stream",
     "text": [
      "<class 'pandas.core.frame.DataFrame'>\n",
      "RangeIndex: 2354 entries, 0 to 2353\n",
      "Data columns (total 3 columns):\n",
      "tweet_id     2354 non-null int64\n",
      "favorites    2354 non-null int64\n",
      "retweets     2354 non-null int64\n",
      "dtypes: int64(3)\n",
      "memory usage: 55.2 KB\n"
     ]
    }
   ],
   "source": [
    "twitter2.info()"
   ]
  },
  {
   "cell_type": "code",
   "execution_count": 608,
   "metadata": {
    "scrolled": false
   },
   "outputs": [
    {
     "data": {
      "text/plain": [
       "749075273010798592    1\n",
       "741099773336379392    1\n",
       "798644042770751489    1\n",
       "825120256414846976    1\n",
       "769212283578875904    1\n",
       "700462010979500032    1\n",
       "780858289093574656    1\n",
       "699775878809702401    1\n",
       "880095782870896641    1\n",
       "760521673607086080    1\n",
       "776477788987613185    1\n",
       "691820333922455552    1\n",
       "715696743237730304    1\n",
       "714606013974974464    1\n",
       "760539183865880579    1\n",
       "813157409116065792    1\n",
       "676430933382295552    1\n",
       "743510151680958465    1\n",
       "837012587749474308    1\n",
       "833722901757046785    1\n",
       "818259473185828864    1\n",
       "670704688707301377    1\n",
       "667160273090932737    1\n",
       "674394782723014656    1\n",
       "672082170312290304    1\n",
       "670093938074779648    1\n",
       "759923798737051648    1\n",
       "809920764300447744    1\n",
       "805487436403003392    1\n",
       "838085839343206401    1\n",
       "                     ..\n",
       "720775346191278080    1\n",
       "879492040517615616    1\n",
       "785927819176054784    1\n",
       "834209720923721728    1\n",
       "857062103051644929    1\n",
       "825026590719483904    1\n",
       "758405701903519748    1\n",
       "668986018524233728    1\n",
       "690938899477221376    1\n",
       "678800283649069056    1\n",
       "681579835668455424    1\n",
       "693155686491000832    1\n",
       "667911425562669056    1\n",
       "816829038950027264    1\n",
       "886054160059072513    1\n",
       "683773439333797890    1\n",
       "674291837063053312    1\n",
       "837482249356513284    1\n",
       "767500508068192258    1\n",
       "669015743032369152    1\n",
       "773922284943896577    1\n",
       "748307329658011649    1\n",
       "783347506784731136    1\n",
       "715360349751484417    1\n",
       "666817836334096384    1\n",
       "794926597468000259    1\n",
       "673705679337693185    1\n",
       "673342308415348736    1\n",
       "754482103782404096    1\n",
       "700151421916807169    1\n",
       "Name: tweet_id, Length: 2354, dtype: int64"
      ]
     },
     "execution_count": 608,
     "metadata": {},
     "output_type": "execute_result"
    }
   ],
   "source": [
    "twitter2['tweet_id'].value_counts()\n"
   ]
  },
  {
   "cell_type": "code",
   "execution_count": 609,
   "metadata": {},
   "outputs": [
    {
     "data": {
      "text/plain": [
       "2354"
      ]
     },
     "execution_count": 609,
     "metadata": {},
     "output_type": "execute_result"
    }
   ],
   "source": [
    "len(twitter2['tweet_id'].value_counts())"
   ]
  },
  {
   "cell_type": "code",
   "execution_count": 610,
   "metadata": {},
   "outputs": [
    {
     "data": {
      "text/plain": [
       "0       False\n",
       "1       False\n",
       "2       False\n",
       "3       False\n",
       "4       False\n",
       "5       False\n",
       "6       False\n",
       "7       False\n",
       "8       False\n",
       "9       False\n",
       "10      False\n",
       "11      False\n",
       "12      False\n",
       "13      False\n",
       "14      False\n",
       "15      False\n",
       "16      False\n",
       "17      False\n",
       "18      False\n",
       "19      False\n",
       "20      False\n",
       "21      False\n",
       "22      False\n",
       "23      False\n",
       "24      False\n",
       "25      False\n",
       "26      False\n",
       "27      False\n",
       "28      False\n",
       "29      False\n",
       "        ...  \n",
       "2324    False\n",
       "2325    False\n",
       "2326    False\n",
       "2327    False\n",
       "2328    False\n",
       "2329    False\n",
       "2330    False\n",
       "2331    False\n",
       "2332    False\n",
       "2333    False\n",
       "2334    False\n",
       "2335    False\n",
       "2336    False\n",
       "2337    False\n",
       "2338    False\n",
       "2339    False\n",
       "2340    False\n",
       "2341    False\n",
       "2342    False\n",
       "2343    False\n",
       "2344    False\n",
       "2345    False\n",
       "2346    False\n",
       "2347    False\n",
       "2348    False\n",
       "2349    False\n",
       "2350    False\n",
       "2351    False\n",
       "2352    False\n",
       "2353    False\n",
       "Name: tweet_id, Length: 2354, dtype: bool"
      ]
     },
     "execution_count": 610,
     "metadata": {},
     "output_type": "execute_result"
    }
   ],
   "source": [
    "twitter2['tweet_id'].duplicated()\n"
   ]
  },
  {
   "cell_type": "code",
   "execution_count": 611,
   "metadata": {},
   "outputs": [
    {
     "data": {
      "text/plain": [
       "tweet_id     2354\n",
       "favorites    2007\n",
       "retweets     1724\n",
       "dtype: int64"
      ]
     },
     "execution_count": 611,
     "metadata": {},
     "output_type": "execute_result"
    }
   ],
   "source": [
    "twitter2.nunique()"
   ]
  },
  {
   "cell_type": "code",
   "execution_count": 612,
   "metadata": {},
   "outputs": [
    {
     "data": {
      "text/html": [
       "<div>\n",
       "<style scoped>\n",
       "    .dataframe tbody tr th:only-of-type {\n",
       "        vertical-align: middle;\n",
       "    }\n",
       "\n",
       "    .dataframe tbody tr th {\n",
       "        vertical-align: top;\n",
       "    }\n",
       "\n",
       "    .dataframe thead th {\n",
       "        text-align: right;\n",
       "    }\n",
       "</style>\n",
       "<table border=\"1\" class=\"dataframe\">\n",
       "  <thead>\n",
       "    <tr style=\"text-align: right;\">\n",
       "      <th></th>\n",
       "      <th>tweet_id</th>\n",
       "      <th>favorites</th>\n",
       "      <th>retweets</th>\n",
       "    </tr>\n",
       "  </thead>\n",
       "  <tbody>\n",
       "    <tr>\n",
       "      <th>count</th>\n",
       "      <td>2.354000e+03</td>\n",
       "      <td>2354.000000</td>\n",
       "      <td>2354.000000</td>\n",
       "    </tr>\n",
       "    <tr>\n",
       "      <th>mean</th>\n",
       "      <td>7.426978e+17</td>\n",
       "      <td>8080.968564</td>\n",
       "      <td>3164.797366</td>\n",
       "    </tr>\n",
       "    <tr>\n",
       "      <th>std</th>\n",
       "      <td>6.852812e+16</td>\n",
       "      <td>11814.771334</td>\n",
       "      <td>5284.770364</td>\n",
       "    </tr>\n",
       "    <tr>\n",
       "      <th>min</th>\n",
       "      <td>6.660209e+17</td>\n",
       "      <td>0.000000</td>\n",
       "      <td>0.000000</td>\n",
       "    </tr>\n",
       "    <tr>\n",
       "      <th>25%</th>\n",
       "      <td>6.783975e+17</td>\n",
       "      <td>1415.000000</td>\n",
       "      <td>624.500000</td>\n",
       "    </tr>\n",
       "    <tr>\n",
       "      <th>50%</th>\n",
       "      <td>7.194596e+17</td>\n",
       "      <td>3603.500000</td>\n",
       "      <td>1473.500000</td>\n",
       "    </tr>\n",
       "    <tr>\n",
       "      <th>75%</th>\n",
       "      <td>7.993058e+17</td>\n",
       "      <td>10122.250000</td>\n",
       "      <td>3652.000000</td>\n",
       "    </tr>\n",
       "    <tr>\n",
       "      <th>max</th>\n",
       "      <td>8.924206e+17</td>\n",
       "      <td>132810.000000</td>\n",
       "      <td>79515.000000</td>\n",
       "    </tr>\n",
       "  </tbody>\n",
       "</table>\n",
       "</div>"
      ],
      "text/plain": [
       "           tweet_id      favorites      retweets\n",
       "count  2.354000e+03    2354.000000   2354.000000\n",
       "mean   7.426978e+17    8080.968564   3164.797366\n",
       "std    6.852812e+16   11814.771334   5284.770364\n",
       "min    6.660209e+17       0.000000      0.000000\n",
       "25%    6.783975e+17    1415.000000    624.500000\n",
       "50%    7.194596e+17    3603.500000   1473.500000\n",
       "75%    7.993058e+17   10122.250000   3652.000000\n",
       "max    8.924206e+17  132810.000000  79515.000000"
      ]
     },
     "execution_count": 612,
     "metadata": {},
     "output_type": "execute_result"
    }
   ],
   "source": [
    "twitter2.describe()"
   ]
  },
  {
   "cell_type": "markdown",
   "metadata": {},
   "source": [
    "## Clean\n",
    "\n",
    "Now that data from all three dataframes have been displayed and evaluated its time to begin the data wrangling process:\n",
    "\n"
   ]
  },
  {
   "cell_type": "markdown",
   "metadata": {},
   "source": [
    "### Data Wrangling Process will include:\n",
    "\n",
    "Define\n",
    "\n",
    "Code\n",
    "\n",
    "Test"
   ]
  },
  {
   "cell_type": "markdown",
   "metadata": {},
   "source": [
    "## Define\n",
    "\n",
    "1. Update Timestamp column to datetime format\n",
    "2. Update tweet_id from integer to string\n",
    "3. Remove columns in_reply_to_status_id, in_reply_to_user_id, retweeted_status_id, retweeted_status_user_id, retweeted_status_timestamp \n",
    "4. Update P1_conf, P2_conf, and P3_conf t string \n",
    "5. Update ratings to correct decimals\n",
    "6. Create and overall rating\n",
    "7. Correcting doggo, floofer, pupper and puppo to one column dog_stage\n",
    "8. Merge dataframes\n",
    "9. Clean Source data\n",
    "10. Fix lowercase names and decrease 'none'\n",
    "\n",
    "\n",
    "\n"
   ]
  },
  {
   "cell_type": "markdown",
   "metadata": {},
   "source": [
    "## Tidiness\n",
    "\n",
    "1. Create one column for dog stage\n",
    "2. Merge all dataframes\n"
   ]
  },
  {
   "cell_type": "code",
   "execution_count": 702,
   "metadata": {
    "scrolled": true
   },
   "outputs": [
    {
     "data": {
      "text/html": [
       "<img src=\"https://pbs.twimg.com/media/CW88XN4WsAAlo8r.jpg\"/>"
      ],
      "text/plain": [
       "<IPython.core.display.Image object>"
      ]
     },
     "execution_count": 702,
     "metadata": {},
     "output_type": "execute_result"
    }
   ],
   "source": [
    "from IPython.display import display \n",
    "Image(url = 'https://pbs.twimg.com/media/CW88XN4WsAAlo8r.jpg')\n"
   ]
  },
  {
   "cell_type": "code",
   "execution_count": 613,
   "metadata": {},
   "outputs": [],
   "source": [
    "# make copies of the dataframes for cleaning\n",
    "\n",
    "twitter_clean = twitter.copy()\n",
    "images_clean = images.copy()\n",
    "twitter2_clean = twitter2.copy()"
   ]
  },
  {
   "cell_type": "code",
   "execution_count": 614,
   "metadata": {
    "scrolled": true
   },
   "outputs": [
    {
     "name": "stdout",
     "output_type": "stream",
     "text": [
      "<class 'pandas.core.frame.DataFrame'>\n",
      "RangeIndex: 2356 entries, 0 to 2355\n",
      "Data columns (total 17 columns):\n",
      "tweet_id                      2356 non-null int64\n",
      "in_reply_to_status_id         78 non-null float64\n",
      "in_reply_to_user_id           78 non-null float64\n",
      "timestamp                     2356 non-null object\n",
      "source                        2356 non-null object\n",
      "text                          2356 non-null object\n",
      "retweeted_status_id           181 non-null float64\n",
      "retweeted_status_user_id      181 non-null float64\n",
      "retweeted_status_timestamp    181 non-null object\n",
      "expanded_urls                 2297 non-null object\n",
      "rating_numerator              2356 non-null int64\n",
      "rating_denominator            2356 non-null int64\n",
      "name                          2356 non-null object\n",
      "doggo                         2356 non-null object\n",
      "floofer                       2356 non-null object\n",
      "pupper                        2356 non-null object\n",
      "puppo                         2356 non-null object\n",
      "dtypes: float64(4), int64(3), object(10)\n",
      "memory usage: 313.0+ KB\n"
     ]
    }
   ],
   "source": [
    "twitter_clean.info()"
   ]
  },
  {
   "cell_type": "code",
   "execution_count": 615,
   "metadata": {},
   "outputs": [
    {
     "name": "stdout",
     "output_type": "stream",
     "text": [
      "<class 'pandas.core.frame.DataFrame'>\n",
      "RangeIndex: 2075 entries, 0 to 2074\n",
      "Data columns (total 12 columns):\n",
      "tweet_id    2075 non-null int64\n",
      "jpg_url     2075 non-null object\n",
      "img_num     2075 non-null int64\n",
      "p1          2075 non-null object\n",
      "p1_conf     2075 non-null float64\n",
      "p1_dog      2075 non-null bool\n",
      "p2          2075 non-null object\n",
      "p2_conf     2075 non-null float64\n",
      "p2_dog      2075 non-null bool\n",
      "p3          2075 non-null object\n",
      "p3_conf     2075 non-null float64\n",
      "p3_dog      2075 non-null bool\n",
      "dtypes: bool(3), float64(3), int64(2), object(4)\n",
      "memory usage: 152.1+ KB\n"
     ]
    }
   ],
   "source": [
    "images_clean.info()"
   ]
  },
  {
   "cell_type": "code",
   "execution_count": 616,
   "metadata": {
    "scrolled": true
   },
   "outputs": [
    {
     "name": "stdout",
     "output_type": "stream",
     "text": [
      "<class 'pandas.core.frame.DataFrame'>\n",
      "RangeIndex: 2354 entries, 0 to 2353\n",
      "Data columns (total 3 columns):\n",
      "tweet_id     2354 non-null int64\n",
      "favorites    2354 non-null int64\n",
      "retweets     2354 non-null int64\n",
      "dtypes: int64(3)\n",
      "memory usage: 55.2 KB\n"
     ]
    }
   ],
   "source": [
    "twitter2_clean.info()"
   ]
  },
  {
   "cell_type": "markdown",
   "metadata": {},
   "source": []
  },
  {
   "cell_type": "markdown",
   "metadata": {},
   "source": [
    "## Define\n",
    "\n",
    "### Issue Update Timestamp column to datetime format"
   ]
  },
  {
   "cell_type": "code",
   "execution_count": 617,
   "metadata": {},
   "outputs": [],
   "source": [
    "# Remove the time zone information from 'timestamp' column\n",
    "twitter_clean['timestamp'] = twitter_clean['timestamp'].str.slice(start=0, stop=-6)"
   ]
  },
  {
   "cell_type": "code",
   "execution_count": 618,
   "metadata": {},
   "outputs": [],
   "source": [
    "# Change the 'timestamp' column to a datetime object\n",
    "twitter_clean['timestamp'] = pd.to_datetime(twitter_clean['timestamp'], format = \"%Y-%m-%d %H:%M:%S\")"
   ]
  },
  {
   "cell_type": "markdown",
   "metadata": {},
   "source": [
    "## Test"
   ]
  },
  {
   "cell_type": "code",
   "execution_count": 619,
   "metadata": {
    "scrolled": true
   },
   "outputs": [
    {
     "name": "stdout",
     "output_type": "stream",
     "text": [
      "<class 'pandas.core.frame.DataFrame'>\n",
      "RangeIndex: 2356 entries, 0 to 2355\n",
      "Data columns (total 17 columns):\n",
      "tweet_id                      2356 non-null int64\n",
      "in_reply_to_status_id         78 non-null float64\n",
      "in_reply_to_user_id           78 non-null float64\n",
      "timestamp                     2356 non-null datetime64[ns]\n",
      "source                        2356 non-null object\n",
      "text                          2356 non-null object\n",
      "retweeted_status_id           181 non-null float64\n",
      "retweeted_status_user_id      181 non-null float64\n",
      "retweeted_status_timestamp    181 non-null object\n",
      "expanded_urls                 2297 non-null object\n",
      "rating_numerator              2356 non-null int64\n",
      "rating_denominator            2356 non-null int64\n",
      "name                          2356 non-null object\n",
      "doggo                         2356 non-null object\n",
      "floofer                       2356 non-null object\n",
      "pupper                        2356 non-null object\n",
      "puppo                         2356 non-null object\n",
      "dtypes: datetime64[ns](1), float64(4), int64(3), object(9)\n",
      "memory usage: 313.0+ KB\n"
     ]
    }
   ],
   "source": [
    "twitter_clean.info()"
   ]
  },
  {
   "cell_type": "markdown",
   "metadata": {},
   "source": [
    "## Define\n",
    "\n",
    "### Issue Update tweet_id from integer to string"
   ]
  },
  {
   "cell_type": "code",
   "execution_count": 620,
   "metadata": {
    "scrolled": true
   },
   "outputs": [],
   "source": [
    "# Change 'tweet_id' to a string in twitter_clean\n",
    "twitter_clean['tweet_id'] = twitter_clean['tweet_id'].astype(str)"
   ]
  },
  {
   "cell_type": "markdown",
   "metadata": {},
   "source": [
    "## Test"
   ]
  },
  {
   "cell_type": "code",
   "execution_count": 621,
   "metadata": {},
   "outputs": [
    {
     "name": "stdout",
     "output_type": "stream",
     "text": [
      "<class 'pandas.core.frame.DataFrame'>\n",
      "RangeIndex: 2356 entries, 0 to 2355\n",
      "Data columns (total 17 columns):\n",
      "tweet_id                      2356 non-null object\n",
      "in_reply_to_status_id         78 non-null float64\n",
      "in_reply_to_user_id           78 non-null float64\n",
      "timestamp                     2356 non-null datetime64[ns]\n",
      "source                        2356 non-null object\n",
      "text                          2356 non-null object\n",
      "retweeted_status_id           181 non-null float64\n",
      "retweeted_status_user_id      181 non-null float64\n",
      "retweeted_status_timestamp    181 non-null object\n",
      "expanded_urls                 2297 non-null object\n",
      "rating_numerator              2356 non-null int64\n",
      "rating_denominator            2356 non-null int64\n",
      "name                          2356 non-null object\n",
      "doggo                         2356 non-null object\n",
      "floofer                       2356 non-null object\n",
      "pupper                        2356 non-null object\n",
      "puppo                         2356 non-null object\n",
      "dtypes: datetime64[ns](1), float64(4), int64(2), object(10)\n",
      "memory usage: 313.0+ KB\n"
     ]
    }
   ],
   "source": [
    "# Check info to confirm tweet_id has been changed from an integer to a string\n",
    "twitter_clean.info()"
   ]
  },
  {
   "cell_type": "code",
   "execution_count": 622,
   "metadata": {},
   "outputs": [],
   "source": [
    "# Change 'tweet_id' to a string in twitter2_clean\n",
    "twitter2_clean['tweet_id'] = twitter2_clean['tweet_id'].astype(str)"
   ]
  },
  {
   "cell_type": "markdown",
   "metadata": {},
   "source": [
    "## Test"
   ]
  },
  {
   "cell_type": "code",
   "execution_count": 623,
   "metadata": {},
   "outputs": [
    {
     "name": "stdout",
     "output_type": "stream",
     "text": [
      "<class 'pandas.core.frame.DataFrame'>\n",
      "RangeIndex: 2354 entries, 0 to 2353\n",
      "Data columns (total 3 columns):\n",
      "tweet_id     2354 non-null object\n",
      "favorites    2354 non-null int64\n",
      "retweets     2354 non-null int64\n",
      "dtypes: int64(2), object(1)\n",
      "memory usage: 55.2+ KB\n"
     ]
    }
   ],
   "source": [
    "twitter2_clean.info()"
   ]
  },
  {
   "cell_type": "code",
   "execution_count": 624,
   "metadata": {},
   "outputs": [],
   "source": [
    "# Change 'tweet_id' to a string in images_clean\n",
    "images_clean['tweet_id'] = images_clean['tweet_id'].astype(str)"
   ]
  },
  {
   "cell_type": "markdown",
   "metadata": {},
   "source": [
    "## Test"
   ]
  },
  {
   "cell_type": "code",
   "execution_count": 625,
   "metadata": {
    "scrolled": true
   },
   "outputs": [
    {
     "name": "stdout",
     "output_type": "stream",
     "text": [
      "<class 'pandas.core.frame.DataFrame'>\n",
      "RangeIndex: 2075 entries, 0 to 2074\n",
      "Data columns (total 12 columns):\n",
      "tweet_id    2075 non-null object\n",
      "jpg_url     2075 non-null object\n",
      "img_num     2075 non-null int64\n",
      "p1          2075 non-null object\n",
      "p1_conf     2075 non-null float64\n",
      "p1_dog      2075 non-null bool\n",
      "p2          2075 non-null object\n",
      "p2_conf     2075 non-null float64\n",
      "p2_dog      2075 non-null bool\n",
      "p3          2075 non-null object\n",
      "p3_conf     2075 non-null float64\n",
      "p3_dog      2075 non-null bool\n",
      "dtypes: bool(3), float64(3), int64(1), object(5)\n",
      "memory usage: 152.1+ KB\n"
     ]
    }
   ],
   "source": [
    "images_clean.info()"
   ]
  },
  {
   "cell_type": "markdown",
   "metadata": {},
   "source": [
    "## Define\n",
    "\n",
    "\n",
    "### Remove columns in_reply_to_status_id, in_reply_to_user_id, retweeted_status_id, retweeted_status_user_id, retweeted_status_timestamp"
   ]
  },
  {
   "cell_type": "code",
   "execution_count": 626,
   "metadata": {},
   "outputs": [],
   "source": [
    "#Dropping columns since I feel I won't need these during my analysis\n",
    "twitter_clean.drop(['in_reply_to_status_id', \n",
    "                  'in_reply_to_user_id',\n",
    "                   'retweeted_status_id','retweeted_status_user_id', 'retweeted_status_timestamp' ], axis = 1, inplace=True)"
   ]
  },
  {
   "cell_type": "markdown",
   "metadata": {},
   "source": [
    "## Test"
   ]
  },
  {
   "cell_type": "code",
   "execution_count": 627,
   "metadata": {
    "scrolled": true
   },
   "outputs": [
    {
     "name": "stdout",
     "output_type": "stream",
     "text": [
      "<class 'pandas.core.frame.DataFrame'>\n",
      "RangeIndex: 2356 entries, 0 to 2355\n",
      "Data columns (total 12 columns):\n",
      "tweet_id              2356 non-null object\n",
      "timestamp             2356 non-null datetime64[ns]\n",
      "source                2356 non-null object\n",
      "text                  2356 non-null object\n",
      "expanded_urls         2297 non-null object\n",
      "rating_numerator      2356 non-null int64\n",
      "rating_denominator    2356 non-null int64\n",
      "name                  2356 non-null object\n",
      "doggo                 2356 non-null object\n",
      "floofer               2356 non-null object\n",
      "pupper                2356 non-null object\n",
      "puppo                 2356 non-null object\n",
      "dtypes: datetime64[ns](1), int64(2), object(9)\n",
      "memory usage: 221.0+ KB\n"
     ]
    }
   ],
   "source": [
    "twitter_clean.info()"
   ]
  },
  {
   "cell_type": "markdown",
   "metadata": {},
   "source": [
    "## Define\n",
    "\n",
    "### Issue Update  p1_conf, p2_conf, and p3_conf to string"
   ]
  },
  {
   "cell_type": "code",
   "execution_count": 628,
   "metadata": {},
   "outputs": [],
   "source": [
    "# Change 'p1_conf' to a string\n",
    "images_clean['p1_conf'] = images_clean['p1_conf'].astype(str)"
   ]
  },
  {
   "cell_type": "markdown",
   "metadata": {},
   "source": [
    "## Test"
   ]
  },
  {
   "cell_type": "code",
   "execution_count": 629,
   "metadata": {},
   "outputs": [
    {
     "name": "stdout",
     "output_type": "stream",
     "text": [
      "<class 'pandas.core.frame.DataFrame'>\n",
      "RangeIndex: 2075 entries, 0 to 2074\n",
      "Data columns (total 12 columns):\n",
      "tweet_id    2075 non-null object\n",
      "jpg_url     2075 non-null object\n",
      "img_num     2075 non-null int64\n",
      "p1          2075 non-null object\n",
      "p1_conf     2075 non-null object\n",
      "p1_dog      2075 non-null bool\n",
      "p2          2075 non-null object\n",
      "p2_conf     2075 non-null float64\n",
      "p2_dog      2075 non-null bool\n",
      "p3          2075 non-null object\n",
      "p3_conf     2075 non-null float64\n",
      "p3_dog      2075 non-null bool\n",
      "dtypes: bool(3), float64(2), int64(1), object(6)\n",
      "memory usage: 152.1+ KB\n"
     ]
    }
   ],
   "source": [
    "images_clean.info()"
   ]
  },
  {
   "cell_type": "code",
   "execution_count": 630,
   "metadata": {},
   "outputs": [],
   "source": [
    "# Change 'p2_conf' to a string\n",
    "images_clean['p2_conf'] = images_clean['p2_conf'].astype(str)"
   ]
  },
  {
   "cell_type": "markdown",
   "metadata": {},
   "source": [
    "## Test"
   ]
  },
  {
   "cell_type": "code",
   "execution_count": 631,
   "metadata": {},
   "outputs": [
    {
     "name": "stdout",
     "output_type": "stream",
     "text": [
      "<class 'pandas.core.frame.DataFrame'>\n",
      "RangeIndex: 2075 entries, 0 to 2074\n",
      "Data columns (total 12 columns):\n",
      "tweet_id    2075 non-null object\n",
      "jpg_url     2075 non-null object\n",
      "img_num     2075 non-null int64\n",
      "p1          2075 non-null object\n",
      "p1_conf     2075 non-null object\n",
      "p1_dog      2075 non-null bool\n",
      "p2          2075 non-null object\n",
      "p2_conf     2075 non-null object\n",
      "p2_dog      2075 non-null bool\n",
      "p3          2075 non-null object\n",
      "p3_conf     2075 non-null float64\n",
      "p3_dog      2075 non-null bool\n",
      "dtypes: bool(3), float64(1), int64(1), object(7)\n",
      "memory usage: 152.1+ KB\n"
     ]
    }
   ],
   "source": [
    "images_clean.info()"
   ]
  },
  {
   "cell_type": "code",
   "execution_count": 632,
   "metadata": {},
   "outputs": [],
   "source": [
    "# Change 'p3_conf' to a string\n",
    "images_clean['p3_conf'] = images_clean['p3_conf'].astype(str)"
   ]
  },
  {
   "cell_type": "markdown",
   "metadata": {},
   "source": [
    "## Test"
   ]
  },
  {
   "cell_type": "code",
   "execution_count": 633,
   "metadata": {
    "scrolled": true
   },
   "outputs": [
    {
     "name": "stdout",
     "output_type": "stream",
     "text": [
      "<class 'pandas.core.frame.DataFrame'>\n",
      "RangeIndex: 2075 entries, 0 to 2074\n",
      "Data columns (total 12 columns):\n",
      "tweet_id    2075 non-null object\n",
      "jpg_url     2075 non-null object\n",
      "img_num     2075 non-null int64\n",
      "p1          2075 non-null object\n",
      "p1_conf     2075 non-null object\n",
      "p1_dog      2075 non-null bool\n",
      "p2          2075 non-null object\n",
      "p2_conf     2075 non-null object\n",
      "p2_dog      2075 non-null bool\n",
      "p3          2075 non-null object\n",
      "p3_conf     2075 non-null object\n",
      "p3_dog      2075 non-null bool\n",
      "dtypes: bool(3), int64(1), object(8)\n",
      "memory usage: 152.1+ KB\n"
     ]
    }
   ],
   "source": [
    "images_clean.info()"
   ]
  },
  {
   "cell_type": "markdown",
   "metadata": {},
   "source": [
    "## Define\n",
    "\n",
    "### Issue Update ratings to correct decimals"
   ]
  },
  {
   "cell_type": "code",
   "execution_count": 634,
   "metadata": {},
   "outputs": [
    {
     "data": {
      "text/plain": [
       "['This is Bella. She hopes her smile made you smile. If not, she is also offering you her favorite monkey. 13.5/10 https://t.co/qjrljjt948',\n",
       " \"RT @dog_rates: This is Logan, the Chow who lived. He solemnly swears he's up to lots of good. H*ckin magical af 9.75/10 https://t.co/yBO5wu…\",\n",
       " \"This is Logan, the Chow who lived. He solemnly swears he's up to lots of good. H*ckin magical af 9.75/10 https://t.co/yBO5wuqaPS\",\n",
       " \"This is Sophie. She's a Jubilant Bush Pupper. Super h*ckin rare. Appears at random just to smile at the locals. 11.27/10 would smile back https://t.co/QFaUiIHxHq\",\n",
       " \"I've been told there's a slight possibility he's checking his mirror. We'll bump to 9.5/10. Still a menace\",\n",
       " 'Here we have uncovered an entire battalion of holiday puppers. Average of 11.26/10 https://t.co/eNm2S6p9BD']"
      ]
     },
     "execution_count": 634,
     "metadata": {},
     "output_type": "execute_result"
    }
   ],
   "source": [
    "# Obtain all text, indices, and ratings for tweets that contain a decimal rating\n",
    "\n",
    "ratings_with_decimals_text = []\n",
    "ratings_with_decimals_index = []\n",
    "ratings_with_decimals = []\n",
    "\n",
    "for i, text in twitter_clean['text'].iteritems():\n",
    "    if bool(re.search('\\d+\\.\\d+\\/\\d+', text)):\n",
    "        ratings_with_decimals_text.append(text)\n",
    "        ratings_with_decimals_index.append(i)\n",
    "        ratings_with_decimals.append(re.search('\\d+\\.\\d+', text).group())\n",
    "\n",
    "# Print the text to confirm presence of ratings with decimals        \n",
    "ratings_with_decimals_text"
   ]
  },
  {
   "cell_type": "code",
   "execution_count": 635,
   "metadata": {},
   "outputs": [
    {
     "data": {
      "text/plain": [
       "[45, 340, 695, 763, 1689, 1712]"
      ]
     },
     "execution_count": 635,
     "metadata": {},
     "output_type": "execute_result"
    }
   ],
   "source": [
    "# Print the index of text with decimal ratings\n",
    "ratings_with_decimals_index"
   ]
  },
  {
   "cell_type": "code",
   "execution_count": 636,
   "metadata": {},
   "outputs": [],
   "source": [
    "# Change contents of 'rating_numerator' based on info found in preceeding cells\n",
    "twitter_clean.loc[ratings_with_decimals_index[0],'rating_numerator'] = float(ratings_with_decimals[0])\n",
    "twitter_clean.loc[ratings_with_decimals_index[1],'rating_numerator'] = float(ratings_with_decimals[1])\n",
    "twitter_clean.loc[ratings_with_decimals_index[2],'rating_numerator'] = float(ratings_with_decimals[2])\n",
    "twitter_clean.loc[ratings_with_decimals_index[3],'rating_numerator'] = float(ratings_with_decimals[3])\n",
    "twitter_clean.loc[ratings_with_decimals_index[4],'rating_numerator'] = float(ratings_with_decimals[4])\n",
    "twitter_clean.loc[ratings_with_decimals_index[5],'rating_numerator'] = float(ratings_with_decimals[5])"
   ]
  },
  {
   "cell_type": "markdown",
   "metadata": {},
   "source": [
    "## Test"
   ]
  },
  {
   "cell_type": "code",
   "execution_count": 637,
   "metadata": {
    "scrolled": true
   },
   "outputs": [
    {
     "data": {
      "text/plain": [
       "tweet_id                                             883483000000000000\n",
       "timestamp                                           2017-07-08 00:28:19\n",
       "source                <a href=\"http://twitter.com/download/iphone\" r...\n",
       "text                  This is Bella. She hopes her smile made you sm...\n",
       "expanded_urls         https://twitter.com/dog_rates/status/883482846...\n",
       "rating_numerator                                                   13.5\n",
       "rating_denominator                                                   10\n",
       "name                                                              Bella\n",
       "doggo                                                              None\n",
       "floofer                                                            None\n",
       "pupper                                                             None\n",
       "puppo                                                              None\n",
       "Name: 45, dtype: object"
      ]
     },
     "execution_count": 637,
     "metadata": {},
     "output_type": "execute_result"
    }
   ],
   "source": [
    "# Check contents of row with index 45 to ensure the rating is corrected\n",
    "twitter_clean.loc[45]"
   ]
  },
  {
   "cell_type": "code",
   "execution_count": null,
   "metadata": {},
   "outputs": [],
   "source": [
    "#This did work, Yay!!"
   ]
  },
  {
   "cell_type": "markdown",
   "metadata": {},
   "source": [
    "## Define\n",
    "\n",
    "### Issue Update to Create and overall rating"
   ]
  },
  {
   "cell_type": "code",
   "execution_count": 638,
   "metadata": {},
   "outputs": [],
   "source": [
    "# Calulate the value of 'rating' by taking numerator and denominator and dividing\n",
    "twitter_clean['rating'] = twitter_clean['rating_numerator'] / twitter_clean['rating_denominator']"
   ]
  },
  {
   "cell_type": "markdown",
   "metadata": {},
   "source": [
    "## Test"
   ]
  },
  {
   "cell_type": "code",
   "execution_count": 639,
   "metadata": {},
   "outputs": [
    {
     "data": {
      "text/html": [
       "<div>\n",
       "<style scoped>\n",
       "    .dataframe tbody tr th:only-of-type {\n",
       "        vertical-align: middle;\n",
       "    }\n",
       "\n",
       "    .dataframe tbody tr th {\n",
       "        vertical-align: top;\n",
       "    }\n",
       "\n",
       "    .dataframe thead th {\n",
       "        text-align: right;\n",
       "    }\n",
       "</style>\n",
       "<table border=\"1\" class=\"dataframe\">\n",
       "  <thead>\n",
       "    <tr style=\"text-align: right;\">\n",
       "      <th></th>\n",
       "      <th>tweet_id</th>\n",
       "      <th>timestamp</th>\n",
       "      <th>source</th>\n",
       "      <th>text</th>\n",
       "      <th>expanded_urls</th>\n",
       "      <th>rating_numerator</th>\n",
       "      <th>rating_denominator</th>\n",
       "      <th>name</th>\n",
       "      <th>doggo</th>\n",
       "      <th>floofer</th>\n",
       "      <th>pupper</th>\n",
       "      <th>puppo</th>\n",
       "      <th>rating</th>\n",
       "    </tr>\n",
       "  </thead>\n",
       "  <tbody>\n",
       "    <tr>\n",
       "      <th>215</th>\n",
       "      <td>851225000000000000</td>\n",
       "      <td>2017-04-10 00:06:42</td>\n",
       "      <td>&lt;a href=\"http://twitter.com/download/iphone\" r...</td>\n",
       "      <td>Meet Snoop. His number one passion is sticking...</td>\n",
       "      <td>https://twitter.com/dog_rates/status/851224888...</td>\n",
       "      <td>13.0</td>\n",
       "      <td>10</td>\n",
       "      <td>Snoop</td>\n",
       "      <td>None</td>\n",
       "      <td>None</td>\n",
       "      <td>None</td>\n",
       "      <td>None</td>\n",
       "      <td>1.3</td>\n",
       "    </tr>\n",
       "  </tbody>\n",
       "</table>\n",
       "</div>"
      ],
      "text/plain": [
       "               tweet_id           timestamp  \\\n",
       "215  851225000000000000 2017-04-10 00:06:42   \n",
       "\n",
       "                                                source  \\\n",
       "215  <a href=\"http://twitter.com/download/iphone\" r...   \n",
       "\n",
       "                                                  text  \\\n",
       "215  Meet Snoop. His number one passion is sticking...   \n",
       "\n",
       "                                         expanded_urls  rating_numerator  \\\n",
       "215  https://twitter.com/dog_rates/status/851224888...              13.0   \n",
       "\n",
       "     rating_denominator   name doggo floofer pupper puppo  rating  \n",
       "215                  10  Snoop  None    None   None  None     1.3  "
      ]
     },
     "execution_count": 639,
     "metadata": {},
     "output_type": "execute_result"
    }
   ],
   "source": [
    "twitter_clean.sample(1)"
   ]
  },
  {
   "cell_type": "markdown",
   "metadata": {},
   "source": [
    "## Define\n",
    "\n",
    "### Issue Correcting doggo, floofer, pupper and puppo to one column dog_stage"
   ]
  },
  {
   "cell_type": "code",
   "execution_count": 640,
   "metadata": {},
   "outputs": [
    {
     "name": "stderr",
     "output_type": "stream",
     "text": [
      "C:\\Users\\Udon\\Anaconda\\lib\\site-packages\\ipykernel_launcher.py:2: FutureWarning: currently extract(expand=None) means expand=False (return Index/Series/DataFrame) but in a future version of pandas this will be changed to expand=True (return DataFrame)\n",
      "  \n"
     ]
    }
   ],
   "source": [
    "#make new 'dog_stage' column \n",
    "twitter_clean['dog_stage'] = twitter_clean['text'].str.extract('(doggo|floofer|pupper|puppo)')"
   ]
  },
  {
   "cell_type": "code",
   "execution_count": 641,
   "metadata": {},
   "outputs": [
    {
     "data": {
      "text/html": [
       "<div>\n",
       "<style scoped>\n",
       "    .dataframe tbody tr th:only-of-type {\n",
       "        vertical-align: middle;\n",
       "    }\n",
       "\n",
       "    .dataframe tbody tr th {\n",
       "        vertical-align: top;\n",
       "    }\n",
       "\n",
       "    .dataframe thead th {\n",
       "        text-align: right;\n",
       "    }\n",
       "</style>\n",
       "<table border=\"1\" class=\"dataframe\">\n",
       "  <thead>\n",
       "    <tr style=\"text-align: right;\">\n",
       "      <th></th>\n",
       "      <th>dog_stage</th>\n",
       "      <th>doggo</th>\n",
       "      <th>floofer</th>\n",
       "      <th>pupper</th>\n",
       "      <th>puppo</th>\n",
       "    </tr>\n",
       "  </thead>\n",
       "  <tbody>\n",
       "    <tr>\n",
       "      <th>0</th>\n",
       "      <td>NaN</td>\n",
       "      <td>None</td>\n",
       "      <td>None</td>\n",
       "      <td>None</td>\n",
       "      <td>None</td>\n",
       "    </tr>\n",
       "    <tr>\n",
       "      <th>1</th>\n",
       "      <td>NaN</td>\n",
       "      <td>None</td>\n",
       "      <td>None</td>\n",
       "      <td>None</td>\n",
       "      <td>None</td>\n",
       "    </tr>\n",
       "    <tr>\n",
       "      <th>2</th>\n",
       "      <td>NaN</td>\n",
       "      <td>None</td>\n",
       "      <td>None</td>\n",
       "      <td>None</td>\n",
       "      <td>None</td>\n",
       "    </tr>\n",
       "    <tr>\n",
       "      <th>3</th>\n",
       "      <td>NaN</td>\n",
       "      <td>None</td>\n",
       "      <td>None</td>\n",
       "      <td>None</td>\n",
       "      <td>None</td>\n",
       "    </tr>\n",
       "    <tr>\n",
       "      <th>4</th>\n",
       "      <td>NaN</td>\n",
       "      <td>None</td>\n",
       "      <td>None</td>\n",
       "      <td>None</td>\n",
       "      <td>None</td>\n",
       "    </tr>\n",
       "  </tbody>\n",
       "</table>\n",
       "</div>"
      ],
      "text/plain": [
       "  dog_stage doggo floofer pupper puppo\n",
       "0       NaN  None    None   None  None\n",
       "1       NaN  None    None   None  None\n",
       "2       NaN  None    None   None  None\n",
       "3       NaN  None    None   None  None\n",
       "4       NaN  None    None   None  None"
      ]
     },
     "execution_count": 641,
     "metadata": {},
     "output_type": "execute_result"
    }
   ],
   "source": [
    "#confirm column was made, which it was!! \n",
    "twitter_clean[['dog_stage','doggo', 'floofer', 'pupper', 'puppo']].head(5)"
   ]
  },
  {
   "cell_type": "code",
   "execution_count": 642,
   "metadata": {},
   "outputs": [],
   "source": [
    "#drop doggo, floofer, pupper, and puppo columns\n",
    "twitter_clean = twitter_clean.drop(['doggo', 'floofer', 'pupper', 'puppo'], axis=1)"
   ]
  },
  {
   "cell_type": "markdown",
   "metadata": {},
   "source": [
    "## Test"
   ]
  },
  {
   "cell_type": "code",
   "execution_count": 643,
   "metadata": {},
   "outputs": [
    {
     "name": "stdout",
     "output_type": "stream",
     "text": [
      "<class 'pandas.core.frame.DataFrame'>\n",
      "RangeIndex: 2356 entries, 0 to 2355\n",
      "Data columns (total 10 columns):\n",
      "tweet_id              2356 non-null object\n",
      "timestamp             2356 non-null datetime64[ns]\n",
      "source                2356 non-null object\n",
      "text                  2356 non-null object\n",
      "expanded_urls         2297 non-null object\n",
      "rating_numerator      2356 non-null float64\n",
      "rating_denominator    2356 non-null int64\n",
      "name                  2356 non-null object\n",
      "rating                2356 non-null float64\n",
      "dog_stage             399 non-null object\n",
      "dtypes: datetime64[ns](1), float64(2), int64(1), object(6)\n",
      "memory usage: 184.1+ KB\n"
     ]
    }
   ],
   "source": [
    "#confirm and now that looks a lot cleaner\n",
    "twitter_clean.info()"
   ]
  },
  {
   "cell_type": "markdown",
   "metadata": {},
   "source": [
    "## Define\n",
    "\n",
    "### Issue join tables"
   ]
  },
  {
   "cell_type": "code",
   "execution_count": 644,
   "metadata": {
    "scrolled": true
   },
   "outputs": [],
   "source": [
    "# merge twitter_archive_clean with predictions_clean\n",
    "tweet_df = pd.merge(twitter_clean, images_clean, how = 'outer', on = ['tweet_id']).copy()\n",
    "\n",
    "# merge complete_df with twitter_add_info_clean\n",
    "tweet_df = pd.merge(tweet_df, twitter2_clean, how = 'outer', on = ['tweet_id']).copy()\n",
    "\n",
    "# save the complete_df as csv\n",
    "tweet_df.to_csv('tweet_df.csv', encoding = 'utf-8')\n",
    "\n",
    "tweet_df_clean = tweet_df.copy()\n",
    "#I found codes that didn't work for me but felt outer worked best since I've already cleaned a good portion of data"
   ]
  },
  {
   "cell_type": "code",
   "execution_count": 645,
   "metadata": {
    "scrolled": true
   },
   "outputs": [
    {
     "name": "stdout",
     "output_type": "stream",
     "text": [
      "<class 'pandas.core.frame.DataFrame'>\n",
      "Int64Index: 4712 entries, 0 to 4711\n",
      "Data columns (total 23 columns):\n",
      "tweet_id              4712 non-null object\n",
      "timestamp             2356 non-null datetime64[ns]\n",
      "source                2356 non-null object\n",
      "text                  2356 non-null object\n",
      "expanded_urls         2297 non-null object\n",
      "rating_numerator      2356 non-null float64\n",
      "rating_denominator    2356 non-null float64\n",
      "name                  2356 non-null object\n",
      "rating                2356 non-null float64\n",
      "dog_stage             399 non-null object\n",
      "jpg_url               2075 non-null object\n",
      "img_num               2075 non-null float64\n",
      "p1                    2075 non-null object\n",
      "p1_conf               2075 non-null object\n",
      "p1_dog                2075 non-null object\n",
      "p2                    2075 non-null object\n",
      "p2_conf               2075 non-null object\n",
      "p2_dog                2075 non-null object\n",
      "p3                    2075 non-null object\n",
      "p3_conf               2075 non-null object\n",
      "p3_dog                2075 non-null object\n",
      "favorites             2354 non-null float64\n",
      "retweets              2354 non-null float64\n",
      "dtypes: datetime64[ns](1), float64(6), object(16)\n",
      "memory usage: 883.5+ KB\n"
     ]
    }
   ],
   "source": [
    "tweet_df_clean.info()"
   ]
  },
  {
   "cell_type": "code",
   "execution_count": 646,
   "metadata": {
    "scrolled": false
   },
   "outputs": [
    {
     "data": {
      "text/plain": [
       "0"
      ]
     },
     "execution_count": 646,
     "metadata": {},
     "output_type": "execute_result"
    }
   ],
   "source": [
    "tweet_df_clean.duplicated().sum()"
   ]
  },
  {
   "cell_type": "markdown",
   "metadata": {},
   "source": [
    "## Define\n",
    "\n",
    "### Fix lowercase names and decrease 'none'"
   ]
  },
  {
   "cell_type": "code",
   "execution_count": 647,
   "metadata": {},
   "outputs": [
    {
     "data": {
      "text/plain": [
       "None       745\n",
       "a           55\n",
       "Charlie     12\n",
       "Cooper      11\n",
       "Oliver      11\n",
       "Name: name, dtype: int64"
      ]
     },
     "execution_count": 647,
     "metadata": {},
     "output_type": "execute_result"
    }
   ],
   "source": [
    "#That's a lot of values for none and a name \"a\" I think will misrepresent outcomes later on\n",
    "tweet_df_clean['name'].value_counts().head(5)"
   ]
  },
  {
   "cell_type": "code",
   "execution_count": 648,
   "metadata": {},
   "outputs": [
    {
     "ename": "TypeError",
     "evalue": "'float' object is not subscriptable",
     "output_type": "error",
     "traceback": [
      "\u001b[1;31m---------------------------------------------------------------------------\u001b[0m",
      "\u001b[1;31mTypeError\u001b[0m                                 Traceback (most recent call last)",
      "\u001b[1;32m<ipython-input-648-6e1de0a6999f>\u001b[0m in \u001b[0;36m<module>\u001b[1;34m\u001b[0m\n\u001b[0;32m      2\u001b[0m \u001b[0mlowercase_names\u001b[0m \u001b[1;33m=\u001b[0m \u001b[1;33m[\u001b[0m\u001b[1;33m]\u001b[0m\u001b[1;33m\u001b[0m\u001b[1;33m\u001b[0m\u001b[0m\n\u001b[0;32m      3\u001b[0m \u001b[1;32mfor\u001b[0m \u001b[0mrow\u001b[0m \u001b[1;32min\u001b[0m \u001b[0mtweet_df_clean\u001b[0m\u001b[1;33m[\u001b[0m\u001b[1;34m'name'\u001b[0m\u001b[1;33m]\u001b[0m\u001b[1;33m:\u001b[0m\u001b[1;33m\u001b[0m\u001b[1;33m\u001b[0m\u001b[0m\n\u001b[1;32m----> 4\u001b[1;33m     \u001b[1;32mif\u001b[0m \u001b[0mrow\u001b[0m\u001b[1;33m[\u001b[0m\u001b[1;36m0\u001b[0m\u001b[1;33m]\u001b[0m\u001b[1;33m.\u001b[0m\u001b[0mislower\u001b[0m\u001b[1;33m(\u001b[0m\u001b[1;33m)\u001b[0m \u001b[1;32mand\u001b[0m \u001b[0mrow\u001b[0m \u001b[1;32mnot\u001b[0m \u001b[1;32min\u001b[0m \u001b[0mlowercase_names\u001b[0m\u001b[1;33m:\u001b[0m\u001b[1;33m\u001b[0m\u001b[1;33m\u001b[0m\u001b[0m\n\u001b[0m\u001b[0;32m      5\u001b[0m         \u001b[0mlowercase_names\u001b[0m\u001b[1;33m.\u001b[0m\u001b[0mappend\u001b[0m\u001b[1;33m(\u001b[0m\u001b[0mrow\u001b[0m\u001b[1;33m)\u001b[0m\u001b[1;33m\u001b[0m\u001b[1;33m\u001b[0m\u001b[0m\n",
      "\u001b[1;31mTypeError\u001b[0m: 'float' object is not subscriptable"
     ]
    }
   ],
   "source": [
    "# Find all names that start with a lowercase letter\n",
    "lowercase_names = []\n",
    "for row in tweet_df_clean['name']:\n",
    "    if row[0].islower() and row not in lowercase_names:\n",
    "        lowercase_names.append(row)\n",
    "#an error did occur but I kept going in hopes it would continue to work"
   ]
  },
  {
   "cell_type": "code",
   "execution_count": 649,
   "metadata": {},
   "outputs": [],
   "source": [
    "#even though code provided an error I continued with the cleaning process\n",
    "tweet_df_clean['name'].replace(lowercase_names, \n",
    "                        np.nan,\n",
    "                       inplace = True)\n",
    "\n",
    "# Replace all 'None's with a NaN\n",
    "tweet_df_clean['name'].replace('None', \n",
    "                        np.nan,\n",
    "                       inplace = True)\n",
    "\n",
    "# Replace the name 'O' with \"O'Malley\" \n",
    "tweet_df_clean['name'].replace('O', \n",
    "                        \"O'Neil\",\n",
    "                       inplace = True)"
   ]
  },
  {
   "cell_type": "code",
   "execution_count": 650,
   "metadata": {
    "scrolled": true
   },
   "outputs": [
    {
     "data": {
      "text/plain": [
       "Charlie         12\n",
       "Lucy            11\n",
       "Oliver          11\n",
       "Cooper          11\n",
       "Penny           10\n",
       "Tucker          10\n",
       "Lola            10\n",
       "Bo               9\n",
       "Winston          9\n",
       "Sadie            8\n",
       "Buddy            7\n",
       "Toby             7\n",
       "Daisy            7\n",
       "Bailey           7\n",
       "Dave             6\n",
       "Scout            6\n",
       "Leo              6\n",
       "Stanley          6\n",
       "Bella            6\n",
       "Oscar            6\n",
       "Jax              6\n",
       "Koda             6\n",
       "Milo             6\n",
       "Jack             6\n",
       "Rusty            6\n",
       "Phil             5\n",
       "Sunny            5\n",
       "Chester          5\n",
       "Alfie            5\n",
       "Sammy            5\n",
       "                ..\n",
       "Mack             1\n",
       "Timofy           1\n",
       "Goose            1\n",
       "Aldrick          1\n",
       "Geno             1\n",
       "Mike             1\n",
       "Winifred         1\n",
       "Tom              1\n",
       "Kenzie           1\n",
       "Apollo           1\n",
       "Kawhi            1\n",
       "Cleopatricia     1\n",
       "Lassie           1\n",
       "Hamrick          1\n",
       "Tedrick          1\n",
       "Carper           1\n",
       "Shikha           1\n",
       "Lenox            1\n",
       "Jeffrie          1\n",
       "Enchilada        1\n",
       "Ralphus          1\n",
       "Jiminus          1\n",
       "Mojo             1\n",
       "Ralphie          1\n",
       "Thor             1\n",
       "Puff             1\n",
       "Margo            1\n",
       "Lili             1\n",
       "Ralphé           1\n",
       "Carbon           1\n",
       "Name: name, Length: 931, dtype: int64"
      ]
     },
     "execution_count": 650,
     "metadata": {},
     "output_type": "execute_result"
    }
   ],
   "source": [
    "#The Code Worked!!!!\n",
    "tweet_df_clean['name'].value_counts()"
   ]
  },
  {
   "cell_type": "markdown",
   "metadata": {},
   "source": [
    "## Define\n",
    "\n",
    "### Issue clean source data"
   ]
  },
  {
   "cell_type": "code",
   "execution_count": 651,
   "metadata": {},
   "outputs": [],
   "source": [
    "#removing https to help sort where the sources originated\n",
    "tweet_df_clean['source'] = tweet_df_clean['source'].str.extract('(<a href=\"https?)(:\\/\\/)(.+)(\">)(.+)(<\\/a)', \n",
    "                                                                       expand = True)[4];\n",
    "tweet_df_clean['source'] = tweet_df_clean['source'].astype('category')"
   ]
  },
  {
   "cell_type": "code",
   "execution_count": 652,
   "metadata": {},
   "outputs": [
    {
     "data": {
      "text/plain": [
       "Twitter for iPhone     2221\n",
       "Vine - Make a Scene      91\n",
       "Twitter Web Client       33\n",
       "TweetDeck                11\n",
       "Name: source, dtype: int64"
      ]
     },
     "execution_count": 652,
     "metadata": {},
     "output_type": "execute_result"
    }
   ],
   "source": [
    "tweet_df_clean['source'].value_counts()"
   ]
  },
  {
   "cell_type": "markdown",
   "metadata": {},
   "source": [
    "## Store Data"
   ]
  },
  {
   "cell_type": "code",
   "execution_count": 653,
   "metadata": {},
   "outputs": [],
   "source": [
    "tweet_df_clean.to_csv('twitter_wrangle.csv', index=False, encoding = 'utf-8')"
   ]
  },
  {
   "cell_type": "code",
   "execution_count": 654,
   "metadata": {},
   "outputs": [],
   "source": [
    "wrangle_act = pd.read_csv('twitter_wrangle.csv')"
   ]
  },
  {
   "cell_type": "code",
   "execution_count": 655,
   "metadata": {},
   "outputs": [
    {
     "name": "stdout",
     "output_type": "stream",
     "text": [
      "<class 'pandas.core.frame.DataFrame'>\n",
      "RangeIndex: 4712 entries, 0 to 4711\n",
      "Data columns (total 23 columns):\n",
      "tweet_id              4712 non-null int64\n",
      "timestamp             2356 non-null object\n",
      "source                2356 non-null object\n",
      "text                  2356 non-null object\n",
      "expanded_urls         2297 non-null object\n",
      "rating_numerator      2356 non-null float64\n",
      "rating_denominator    2356 non-null float64\n",
      "name                  1502 non-null object\n",
      "rating                2356 non-null float64\n",
      "dog_stage             399 non-null object\n",
      "jpg_url               2075 non-null object\n",
      "img_num               2075 non-null float64\n",
      "p1                    2075 non-null object\n",
      "p1_conf               2075 non-null float64\n",
      "p1_dog                2075 non-null object\n",
      "p2                    2075 non-null object\n",
      "p2_conf               2075 non-null float64\n",
      "p2_dog                2075 non-null object\n",
      "p3                    2075 non-null object\n",
      "p3_conf               2075 non-null float64\n",
      "p3_dog                2075 non-null object\n",
      "favorites             2354 non-null float64\n",
      "retweets              2354 non-null float64\n",
      "dtypes: float64(9), int64(1), object(13)\n",
      "memory usage: 846.8+ KB\n"
     ]
    }
   ],
   "source": [
    "wrangle_act.info()"
   ]
  },
  {
   "cell_type": "markdown",
   "metadata": {},
   "source": [
    "## Data Analysis and Visualization"
   ]
  },
  {
   "cell_type": "code",
   "execution_count": 656,
   "metadata": {},
   "outputs": [
    {
     "data": {
      "text/html": [
       "<div>\n",
       "<style scoped>\n",
       "    .dataframe tbody tr th:only-of-type {\n",
       "        vertical-align: middle;\n",
       "    }\n",
       "\n",
       "    .dataframe tbody tr th {\n",
       "        vertical-align: top;\n",
       "    }\n",
       "\n",
       "    .dataframe thead th {\n",
       "        text-align: right;\n",
       "    }\n",
       "</style>\n",
       "<table border=\"1\" class=\"dataframe\">\n",
       "  <thead>\n",
       "    <tr style=\"text-align: right;\">\n",
       "      <th></th>\n",
       "      <th>tweet_id</th>\n",
       "      <th>rating_numerator</th>\n",
       "      <th>rating_denominator</th>\n",
       "      <th>rating</th>\n",
       "      <th>img_num</th>\n",
       "      <th>p1_conf</th>\n",
       "      <th>p2_conf</th>\n",
       "      <th>p3_conf</th>\n",
       "      <th>favorites</th>\n",
       "      <th>retweets</th>\n",
       "    </tr>\n",
       "  </thead>\n",
       "  <tbody>\n",
       "    <tr>\n",
       "      <th>count</th>\n",
       "      <td>4.712000e+03</td>\n",
       "      <td>2356.000000</td>\n",
       "      <td>2356.000000</td>\n",
       "      <td>2356.000000</td>\n",
       "      <td>2075.000000</td>\n",
       "      <td>2075.000000</td>\n",
       "      <td>2.075000e+03</td>\n",
       "      <td>2.075000e+03</td>\n",
       "      <td>2354.000000</td>\n",
       "      <td>2354.000000</td>\n",
       "    </tr>\n",
       "    <tr>\n",
       "      <th>mean</th>\n",
       "      <td>7.427716e+17</td>\n",
       "      <td>13.063680</td>\n",
       "      <td>10.455433</td>\n",
       "      <td>inf</td>\n",
       "      <td>1.203855</td>\n",
       "      <td>0.594548</td>\n",
       "      <td>1.345886e-01</td>\n",
       "      <td>6.032417e-02</td>\n",
       "      <td>8080.968564</td>\n",
       "      <td>3164.797366</td>\n",
       "    </tr>\n",
       "    <tr>\n",
       "      <th>std</th>\n",
       "      <td>6.855977e+16</td>\n",
       "      <td>45.839085</td>\n",
       "      <td>6.745237</td>\n",
       "      <td>NaN</td>\n",
       "      <td>0.561875</td>\n",
       "      <td>0.271174</td>\n",
       "      <td>1.006657e-01</td>\n",
       "      <td>5.090593e-02</td>\n",
       "      <td>11814.771334</td>\n",
       "      <td>5284.770364</td>\n",
       "    </tr>\n",
       "    <tr>\n",
       "      <th>min</th>\n",
       "      <td>6.660209e+17</td>\n",
       "      <td>0.000000</td>\n",
       "      <td>0.000000</td>\n",
       "      <td>0.000000</td>\n",
       "      <td>1.000000</td>\n",
       "      <td>0.044333</td>\n",
       "      <td>1.011300e-08</td>\n",
       "      <td>1.740170e-10</td>\n",
       "      <td>0.000000</td>\n",
       "      <td>0.000000</td>\n",
       "    </tr>\n",
       "    <tr>\n",
       "      <th>25%</th>\n",
       "      <td>6.783990e+17</td>\n",
       "      <td>10.000000</td>\n",
       "      <td>10.000000</td>\n",
       "      <td>1.000000</td>\n",
       "      <td>1.000000</td>\n",
       "      <td>0.364412</td>\n",
       "      <td>5.388625e-02</td>\n",
       "      <td>1.622240e-02</td>\n",
       "      <td>1415.000000</td>\n",
       "      <td>624.500000</td>\n",
       "    </tr>\n",
       "    <tr>\n",
       "      <th>50%</th>\n",
       "      <td>7.196277e+17</td>\n",
       "      <td>11.000000</td>\n",
       "      <td>10.000000</td>\n",
       "      <td>1.100000</td>\n",
       "      <td>1.000000</td>\n",
       "      <td>0.588230</td>\n",
       "      <td>1.181810e-01</td>\n",
       "      <td>4.944380e-02</td>\n",
       "      <td>3603.500000</td>\n",
       "      <td>1473.500000</td>\n",
       "    </tr>\n",
       "    <tr>\n",
       "      <th>75%</th>\n",
       "      <td>7.993375e+17</td>\n",
       "      <td>12.000000</td>\n",
       "      <td>10.000000</td>\n",
       "      <td>1.200000</td>\n",
       "      <td>1.000000</td>\n",
       "      <td>0.843855</td>\n",
       "      <td>1.955655e-01</td>\n",
       "      <td>9.180755e-02</td>\n",
       "      <td>10122.250000</td>\n",
       "      <td>3652.000000</td>\n",
       "    </tr>\n",
       "    <tr>\n",
       "      <th>max</th>\n",
       "      <td>8.924210e+17</td>\n",
       "      <td>1776.000000</td>\n",
       "      <td>170.000000</td>\n",
       "      <td>inf</td>\n",
       "      <td>4.000000</td>\n",
       "      <td>1.000000</td>\n",
       "      <td>4.880140e-01</td>\n",
       "      <td>2.734190e-01</td>\n",
       "      <td>132810.000000</td>\n",
       "      <td>79515.000000</td>\n",
       "    </tr>\n",
       "  </tbody>\n",
       "</table>\n",
       "</div>"
      ],
      "text/plain": [
       "           tweet_id  rating_numerator  rating_denominator       rating  \\\n",
       "count  4.712000e+03       2356.000000         2356.000000  2356.000000   \n",
       "mean   7.427716e+17         13.063680           10.455433          inf   \n",
       "std    6.855977e+16         45.839085            6.745237          NaN   \n",
       "min    6.660209e+17          0.000000            0.000000     0.000000   \n",
       "25%    6.783990e+17         10.000000           10.000000     1.000000   \n",
       "50%    7.196277e+17         11.000000           10.000000     1.100000   \n",
       "75%    7.993375e+17         12.000000           10.000000     1.200000   \n",
       "max    8.924210e+17       1776.000000          170.000000          inf   \n",
       "\n",
       "           img_num      p1_conf       p2_conf       p3_conf      favorites  \\\n",
       "count  2075.000000  2075.000000  2.075000e+03  2.075000e+03    2354.000000   \n",
       "mean      1.203855     0.594548  1.345886e-01  6.032417e-02    8080.968564   \n",
       "std       0.561875     0.271174  1.006657e-01  5.090593e-02   11814.771334   \n",
       "min       1.000000     0.044333  1.011300e-08  1.740170e-10       0.000000   \n",
       "25%       1.000000     0.364412  5.388625e-02  1.622240e-02    1415.000000   \n",
       "50%       1.000000     0.588230  1.181810e-01  4.944380e-02    3603.500000   \n",
       "75%       1.000000     0.843855  1.955655e-01  9.180755e-02   10122.250000   \n",
       "max       4.000000     1.000000  4.880140e-01  2.734190e-01  132810.000000   \n",
       "\n",
       "           retweets  \n",
       "count   2354.000000  \n",
       "mean    3164.797366  \n",
       "std     5284.770364  \n",
       "min        0.000000  \n",
       "25%      624.500000  \n",
       "50%     1473.500000  \n",
       "75%     3652.000000  \n",
       "max    79515.000000  "
      ]
     },
     "execution_count": 656,
     "metadata": {},
     "output_type": "execute_result"
    }
   ],
   "source": [
    "wrangle_act.describe()"
   ]
  },
  {
   "cell_type": "code",
   "execution_count": 657,
   "metadata": {
    "scrolled": false
   },
   "outputs": [
    {
     "data": {
      "text/plain": [
       "2016-03-07 18:09:06    1\n",
       "2016-11-25 21:37:47    1\n",
       "2016-11-16 00:38:54    1\n",
       "2015-11-19 01:59:39    1\n",
       "2015-11-20 01:06:48    1\n",
       "2016-12-25 18:00:17    1\n",
       "2015-11-22 20:37:34    1\n",
       "2017-04-26 16:00:39    1\n",
       "2015-12-13 01:12:15    1\n",
       "2017-01-17 17:21:47    1\n",
       "2016-03-04 03:13:11    1\n",
       "2015-12-21 04:44:55    1\n",
       "2016-01-28 04:44:32    1\n",
       "2016-07-29 02:40:28    1\n",
       "2016-09-25 17:10:10    1\n",
       "2016-02-16 02:04:04    1\n",
       "2015-12-13 04:14:39    1\n",
       "2017-01-14 17:00:24    1\n",
       "2016-07-05 00:00:18    1\n",
       "2016-11-20 22:02:27    1\n",
       "2015-11-19 01:27:25    1\n",
       "2016-03-16 00:37:03    1\n",
       "2016-07-09 01:08:47    1\n",
       "2015-12-06 22:54:44    1\n",
       "2015-12-07 16:46:21    1\n",
       "2016-10-17 15:31:05    1\n",
       "2015-11-23 03:09:00    1\n",
       "2016-08-20 22:12:29    1\n",
       "2016-12-06 19:29:28    1\n",
       "2016-02-08 15:14:57    1\n",
       "                      ..\n",
       "2015-12-11 02:08:58    1\n",
       "2015-11-19 02:58:01    1\n",
       "2016-02-10 18:11:03    1\n",
       "2016-12-28 16:56:16    1\n",
       "2016-05-18 00:39:02    1\n",
       "2016-10-15 21:01:17    1\n",
       "2016-05-04 02:26:00    1\n",
       "2016-08-05 01:19:35    1\n",
       "2016-01-20 20:21:00    1\n",
       "2015-12-08 01:47:22    1\n",
       "2015-12-26 17:41:07    1\n",
       "2016-01-08 04:46:13    1\n",
       "2015-11-15 23:05:30    1\n",
       "2017-03-07 00:57:32    1\n",
       "2016-04-11 03:33:34    1\n",
       "2015-11-25 01:35:25    1\n",
       "2015-11-19 20:20:22    1\n",
       "2017-01-15 21:49:15    1\n",
       "2016-06-09 19:52:53    1\n",
       "2015-12-30 02:54:35    1\n",
       "2017-02-28 01:00:19    1\n",
       "2016-03-21 17:30:03    1\n",
       "2016-06-04 23:31:25    1\n",
       "2015-12-02 18:48:47    1\n",
       "2016-07-02 02:17:13    1\n",
       "2016-02-26 04:48:02    1\n",
       "2017-01-12 16:54:26    1\n",
       "2015-11-22 17:40:27    1\n",
       "2015-11-29 02:20:29    1\n",
       "2016-03-13 01:57:25    1\n",
       "Name: timestamp, Length: 2356, dtype: int64"
      ]
     },
     "execution_count": 657,
     "metadata": {},
     "output_type": "execute_result"
    }
   ],
   "source": [
    "wrangle_act['timestamp'].value_counts()"
   ]
  },
  {
   "cell_type": "markdown",
   "metadata": {},
   "source": [
    "## Insights"
   ]
  },
  {
   "cell_type": "markdown",
   "metadata": {},
   "source": [
    "Some insights I hoped to discover along the way would include the following:\n",
    "\n",
    "1. Which Dog stage would be most commonly used?\n",
    "2. How does the retweets vs favorites compare?\n",
    "3. Was there going to be an output to support where data was coming from?\n",
    "4. Which would be the most popular dog breed?\n",
    "5. What would some of the most popular dog names currently being used?\n",
    "\n",
    "\n"
   ]
  },
  {
   "cell_type": "markdown",
   "metadata": {},
   "source": [
    "## Insight Which Dog stage would be most commonly used?"
   ]
  },
  {
   "cell_type": "code",
   "execution_count": 658,
   "metadata": {
    "scrolled": true
   },
   "outputs": [
    {
     "data": {
      "text/plain": [
       "pupper     265\n",
       "doggo       93\n",
       "puppo       37\n",
       "floofer      4\n",
       "Name: dog_stage, dtype: int64"
      ]
     },
     "execution_count": 658,
     "metadata": {},
     "output_type": "execute_result"
    }
   ],
   "source": [
    "wrangle_act['dog_stage'].value_counts()"
   ]
  },
  {
   "cell_type": "code",
   "execution_count": 659,
   "metadata": {},
   "outputs": [
    {
     "data": {
      "image/png": "[encoded data removed]",
      "text/plain": [
       "<Figure size 576x576 with 1 Axes>"
      ]
     },
     "metadata": {
      "needs_background": "light"
     },
     "output_type": "display_data"
    }
   ],
   "source": [
    "wrangle_act['dog_stage'].hist(figsize=(8, 8));"
   ]
  },
  {
   "cell_type": "code",
   "execution_count": 660,
   "metadata": {
    "scrolled": false
   },
   "outputs": [
    {
     "data": {
      "text/plain": [
       "<matplotlib.axes._subplots.AxesSubplot at 0xf86adbd8d0>"
      ]
     },
     "execution_count": 660,
     "metadata": {},
     "output_type": "execute_result"
    },
    {
     "data": {
      "image/png": "[encoded data removed]",
      "text/plain": [
       "<Figure size 576x576 with 1 Axes>"
      ]
     },
     "metadata": {},
     "output_type": "display_data"
    }
   ],
   "source": [
    "wrangle_act['dog_stage'].value_counts().plot(kind='pie', figsize=(8,8))"
   ]
  },
  {
   "cell_type": "markdown",
   "metadata": {},
   "source": [
    "## Outcome for the most used dog stage was pupper!"
   ]
  },
  {
   "cell_type": "markdown",
   "metadata": {},
   "source": [
    "## Insight How does the retweets vs favorites compare?"
   ]
  },
  {
   "cell_type": "code",
   "execution_count": 661,
   "metadata": {
    "scrolled": true
   },
   "outputs": [
    {
     "data": {
      "image/png": "[encoded data removed]",
      "text/plain": [
       "<Figure size 432x288 with 1 Axes>"
      ]
     },
     "metadata": {
      "needs_background": "light"
     },
     "output_type": "display_data"
    }
   ],
   "source": [
    "wrangle_act['retweets'].hist(alpha=0.5, bins=20, label='Retweets')\n",
    "wrangle_act['favorites'].hist(alpha=0.5, bins=20, label='favorites')\n",
    "plt.legend();"
   ]
  },
  {
   "cell_type": "markdown",
   "metadata": {},
   "source": [
    "## Insight Was there going to be an output to support where data was coming from?"
   ]
  },
  {
   "cell_type": "code",
   "execution_count": 662,
   "metadata": {},
   "outputs": [
    {
     "data": {
      "text/plain": [
       "<matplotlib.axes._subplots.AxesSubplot at 0xf86aedf048>"
      ]
     },
     "execution_count": 662,
     "metadata": {},
     "output_type": "execute_result"
    },
    {
     "data": {
      "image/png": "[encoded data removed]",
      "text/plain": [
       "<Figure size 576x576 with 1 Axes>"
      ]
     },
     "metadata": {},
     "output_type": "display_data"
    }
   ],
   "source": [
    "wrangle_act['source'].value_counts().plot(kind='pie', figsize=(8,8))"
   ]
  },
  {
   "cell_type": "code",
   "execution_count": 664,
   "metadata": {
    "scrolled": true
   },
   "outputs": [
    {
     "data": {
      "image/png": "[encoded data removed]",
      "text/plain": [
       "<Figure size 432x288 with 1 Axes>"
      ]
     },
     "metadata": {
      "needs_background": "light"
     },
     "output_type": "display_data"
    }
   ],
   "source": [
    "p=sns.barplot(data=wrangle_act, x='source', y='rating')\n",
    "p.figure.suptitle('Rating (by stage)');"
   ]
  },
  {
   "cell_type": "markdown",
   "metadata": {},
   "source": [
    "## Insight\n",
    "\n",
    " Which would be the most popular dog breed?"
   ]
  },
  {
   "cell_type": "code",
   "execution_count": 665,
   "metadata": {
    "scrolled": false
   },
   "outputs": [
    {
     "data": {
      "text/plain": [
       "golden_retriever      150\n",
       "Labrador_retriever    100\n",
       "Pembroke               89\n",
       "Chihuahua              83\n",
       "pug                    57\n",
       "chow                   44\n",
       "Samoyed                43\n",
       "toy_poodle             39\n",
       "Pomeranian             38\n",
       "cocker_spaniel         30\n",
       "Name: p1, dtype: int64"
      ]
     },
     "execution_count": 665,
     "metadata": {},
     "output_type": "execute_result"
    }
   ],
   "source": [
    "wrangle_act['p1'].value_counts().head(10)"
   ]
  },
  {
   "cell_type": "markdown",
   "metadata": {},
   "source": [
    "## P1 winner golden retriever!"
   ]
  },
  {
   "cell_type": "code",
   "execution_count": 698,
   "metadata": {},
   "outputs": [
    {
     "data": {
      "text/html": [
       "<img src=\"https://pbs.twimg.com/media/CsGnz64WYAEIDHJ.jpg\"/>"
      ],
      "text/plain": [
       "<IPython.core.display.Image object>"
      ]
     },
     "execution_count": 698,
     "metadata": {},
     "output_type": "execute_result"
    }
   ],
   "source": [
    "from IPython.display import display \n",
    "Image(url = 'https://pbs.twimg.com/media/CsGnz64WYAEIDHJ.jpg')"
   ]
  },
  {
   "cell_type": "code",
   "execution_count": 666,
   "metadata": {},
   "outputs": [
    {
     "data": {
      "image/png": "[encoded data removed]",
      "text/plain": [
       "<Figure size 1080x576 with 1 Axes>"
      ]
     },
     "metadata": {},
     "output_type": "display_data"
    }
   ],
   "source": [
    "wrangle_act['p1'].value_counts().head(10).plot(kind='pie', figsize=(15, 8));"
   ]
  },
  {
   "cell_type": "code",
   "execution_count": 667,
   "metadata": {
    "scrolled": true
   },
   "outputs": [
    {
     "data": {
      "text/plain": [
       "Labrador_retriever          104\n",
       "golden_retriever             92\n",
       "Cardigan                     73\n",
       "Chihuahua                    44\n",
       "Pomeranian                   42\n",
       "Chesapeake_Bay_retriever     41\n",
       "French_bulldog               41\n",
       "toy_poodle                   37\n",
       "cocker_spaniel               34\n",
       "Siberian_husky               33\n",
       "Name: p2, dtype: int64"
      ]
     },
     "execution_count": 667,
     "metadata": {},
     "output_type": "execute_result"
    }
   ],
   "source": [
    "wrangle_act['p2'].value_counts().head(10)"
   ]
  },
  {
   "cell_type": "markdown",
   "metadata": {},
   "source": [
    "## P2 winner labrador retriever!"
   ]
  },
  {
   "cell_type": "code",
   "execution_count": 697,
   "metadata": {},
   "outputs": [
    {
     "data": {
      "text/html": [
       "<img src=\"https://pbs.twimg.com/media/CwiuEJmW8AAZnit.jpg\"/>"
      ],
      "text/plain": [
       "<IPython.core.display.Image object>"
      ]
     },
     "execution_count": 697,
     "metadata": {},
     "output_type": "execute_result"
    }
   ],
   "source": [
    "from IPython.display import display \n",
    "Image(url = 'https://pbs.twimg.com/media/CwiuEJmW8AAZnit.jpg')"
   ]
  },
  {
   "cell_type": "code",
   "execution_count": 668,
   "metadata": {},
   "outputs": [
    {
     "data": {
      "image/png": "[encoded data removed]",
      "text/plain": [
       "<Figure size 1080x576 with 1 Axes>"
      ]
     },
     "metadata": {},
     "output_type": "display_data"
    }
   ],
   "source": [
    "wrangle_act['p2'].value_counts().head(10).plot(kind='pie', figsize=(15, 8));"
   ]
  },
  {
   "cell_type": "code",
   "execution_count": 669,
   "metadata": {
    "scrolled": false
   },
   "outputs": [
    {
     "data": {
      "text/plain": [
       "Labrador_retriever           79\n",
       "Chihuahua                    58\n",
       "golden_retriever             48\n",
       "Eskimo_dog                   38\n",
       "kelpie                       35\n",
       "kuvasz                       34\n",
       "chow                         32\n",
       "Staffordshire_bullterrier    32\n",
       "cocker_spaniel               31\n",
       "beagle                       31\n",
       "Name: p3, dtype: int64"
      ]
     },
     "execution_count": 669,
     "metadata": {},
     "output_type": "execute_result"
    }
   ],
   "source": [
    "wrangle_act['p3'].value_counts().head(10)"
   ]
  },
  {
   "cell_type": "markdown",
   "metadata": {},
   "source": [
    "## P3 winner labrador retriever!"
   ]
  },
  {
   "cell_type": "code",
   "execution_count": 699,
   "metadata": {},
   "outputs": [
    {
     "data": {
      "text/html": [
       "<img src=\"https://pbs.twimg.com/media/CVMJ9guXAAAhAiK.jpg\"/>"
      ],
      "text/plain": [
       "<IPython.core.display.Image object>"
      ]
     },
     "execution_count": 699,
     "metadata": {},
     "output_type": "execute_result"
    }
   ],
   "source": [
    "from IPython.display import display \n",
    "Image(url = 'https://pbs.twimg.com/media/CVMJ9guXAAAhAiK.jpg')"
   ]
  },
  {
   "cell_type": "code",
   "execution_count": 670,
   "metadata": {
    "scrolled": true
   },
   "outputs": [
    {
     "data": {
      "image/png": "[encoded data removed]",
      "text/plain": [
       "<Figure size 1080x576 with 1 Axes>"
      ]
     },
     "metadata": {},
     "output_type": "display_data"
    }
   ],
   "source": [
    "wrangle_act['p3'].value_counts().head(10).plot(kind='pie', figsize=(15, 8));"
   ]
  },
  {
   "cell_type": "markdown",
   "metadata": {},
   "source": [
    "## Taking into consideration each value the Golden wins at 290 vs the Lab at 283!!"
   ]
  },
  {
   "cell_type": "code",
   "execution_count": 700,
   "metadata": {
    "scrolled": true
   },
   "outputs": [
    {
     "data": {
      "text/html": [
       "<img src=\"https://pbs.twimg.com/media/Ct2qO5PXEAE6eB0.jpg\"/>"
      ],
      "text/plain": [
       "<IPython.core.display.Image object>"
      ]
     },
     "execution_count": 700,
     "metadata": {},
     "output_type": "execute_result"
    }
   ],
   "source": [
    "from IPython.display import display \n",
    "Image(url = 'https://pbs.twimg.com/media/Ct2qO5PXEAE6eB0.jpg')"
   ]
  },
  {
   "cell_type": "markdown",
   "metadata": {},
   "source": [
    "## Insight What would some of the most popular dog names currently being used?"
   ]
  },
  {
   "cell_type": "code",
   "execution_count": 671,
   "metadata": {
    "scrolled": true
   },
   "outputs": [
    {
     "data": {
      "text/plain": [
       "<matplotlib.axes._subplots.AxesSubplot at 0xf86b11f2b0>"
      ]
     },
     "execution_count": 671,
     "metadata": {},
     "output_type": "execute_result"
    },
    {
     "data": {
      "image/png": "[encoded data removed]",
      "text/plain": [
       "<Figure size 432x288 with 1 Axes>"
      ]
     },
     "metadata": {
      "needs_background": "light"
     },
     "output_type": "display_data"
    }
   ],
   "source": [
    "wrangle_act['name'].value_counts().head(20).plot(kind='bar')"
   ]
  },
  {
   "cell_type": "markdown",
   "metadata": {},
   "source": [
    "## Here are the top 20 names popular amongst the data collected. \n",
    "\n",
    "## Top five \n",
    "1. Charlie\n",
    "2. Oliver\n",
    "3. Copper\n",
    "4. Lucy\n",
    "5. Penny"
   ]
  },
  {
   "cell_type": "code",
   "execution_count": 678,
   "metadata": {},
   "outputs": [
    {
     "data": {
      "text/plain": [
       "0       892421000000000000\n",
       "1       892177000000000000\n",
       "2       891815000000000000\n",
       "3       891690000000000000\n",
       "4       891328000000000000\n",
       "5       891088000000000000\n",
       "6       890972000000000000\n",
       "7       890729000000000000\n",
       "8       890609000000000000\n",
       "9       890240000000000000\n",
       "10      890007000000000000\n",
       "11      889881000000000000\n",
       "12      889665000000000000\n",
       "13      889639000000000000\n",
       "14      889531000000000000\n",
       "15      889279000000000000\n",
       "16      888917000000000000\n",
       "17      888805000000000000\n",
       "18      888555000000000000\n",
       "19      888203000000000000\n",
       "20      888078000000000000\n",
       "21      887705000000000000\n",
       "22      887517000000000000\n",
       "23      887474000000000000\n",
       "24      887343000000000000\n",
       "25      887101000000000000\n",
       "26      886983000000000000\n",
       "27      886737000000000000\n",
       "28      886680000000000000\n",
       "29      886366000000000000\n",
       "               ...        \n",
       "4682    684830982659280897\n",
       "4683    684588130326986752\n",
       "4684    684147889187209216\n",
       "4685    683515932363329536\n",
       "4686    682808988178739200\n",
       "4687    682088079302213632\n",
       "4688    681340665377193984\n",
       "4689    680805554198020098\n",
       "4690    679872969355714560\n",
       "4691    679405845277462528\n",
       "4692    679001094530465792\n",
       "4693    678708137298427904\n",
       "4694    678023323247357953\n",
       "4695    677961670166224897\n",
       "4696    677335745548390400\n",
       "4697    676916996760600576\n",
       "4698    676593408224403456\n",
       "4699    676590572941893632\n",
       "4700    676121918416756736\n",
       "4701    675849018447167488\n",
       "4702    674742531037511680\n",
       "4703    674606911342424069\n",
       "4704    674330906434379776\n",
       "4705    674307341513269249\n",
       "4706    673716320723169284\n",
       "4707    671550332464455680\n",
       "4708    669684865554620416\n",
       "4709    668967877119254528\n",
       "4710    668587383441514497\n",
       "4711    667070482143944705\n",
       "Name: tweet_id, Length: 4712, dtype: int64"
      ]
     },
     "execution_count": 678,
     "metadata": {},
     "output_type": "execute_result"
    }
   ],
   "source": [
    "wrangle_act['tweet_id']"
   ]
  },
  {
   "cell_type": "markdown",
   "metadata": {},
   "source": [
    "## Resources"
   ]
  },
  {
   "cell_type": "markdown",
   "metadata": {},
   "source": [
    "https://stackoverflow.com/questions/37725195/pandas-replace-values-based-on-index?utm_medium=organic&utm_source=google_rich_qa&utm_campaign=google_rich_qa\n",
    "\n",
    "https://stackoverflow.com/questions/25351968/how-to-display-full-non-truncated-dataframe-information-in-html-when-convertin?utm_medium=organic&utm_source=google_rich_qa&utm_campaign=google_rich_qa\n",
    "\n",
    "https://stackoverflow.com/questions/17071871/how-to-select-rows-from-a-dataframe-based-on-column-values?utm_medium=organic&utm_source=google_rich_qa&utm_campaign=google_rich_qa\n",
    "\n",
    "https://stackoverflow.com/questions/36921951/truth-value-of-a-series-is-ambiguous-use-a-empty-a-bool-a-item-a-any-o\n",
    "\n",
    "https://stackoverflow.com/questions/28237210/image-does-not-display-in-ipython\n",
    "\n",
    "https://stackoverflow.com/questions/23668427/pandas-three-way-joining-multiple-dataframes-on-columns?utm_medium=organic&utm_source=google_rich_qa&utm_campaign=google_rich_qa\n",
    "\n",
    "https://stackoverflow.com/questions/23667369/drop-all-duplicate-rows-in-python-pandas\n",
    "\n",
    "https://stackoverflow.com/questions/28384588/twitter-api-get-tweets-with-specific-id\n",
    "\n",
    "https://www.answiz.com/questions/28779/attributeerror-apos-float-apos-object-has-no-attribute-apos-split-apos?ref=anwser\n",
    "\n",
    "https://datacarpentry.org/python-ecology-lesson/05-merging-data/index.html"
   ]
  },
  {
   "cell_type": "code",
   "execution_count": null,
   "metadata": {},
   "outputs": [],
   "source": []
  }
 ],
 "metadata": {
  "kernelspec": {
   "display_name": "Python 3",
   "language": "python",
   "name": "python3"
  },
  "language_info": {
   "codemirror_mode": {
    "name": "ipython",
    "version": 3
   },
   "file_extension": ".py",
   "mimetype": "text/x-python",
   "name": "python",
   "nbconvert_exporter": "python",
   "pygments_lexer": "ipython3",
   "version": "3.6.10"
  }
 },
 "nbformat": 4,
 "nbformat_minor": 4
}
